{
 "cells": [
  {
   "cell_type": "markdown",
   "id": "quick-projection",
   "metadata": {
    "papermill": {
     "duration": 0.009517,
     "end_time": "2021-03-17T03:11:24.682915",
     "exception": false,
     "start_time": "2021-03-17T03:11:24.673398",
     "status": "completed"
    },
    "tags": []
   },
   "source": [
    "Credit: https://www.kaggle.com/yasufuminakama/ranzcr-resnet200d-3-stage-training-step2 \n"
   ]
  },
  {
   "cell_type": "code",
   "execution_count": 1,
   "id": "hybrid-surveillance",
   "metadata": {
    "_cell_guid": "b1076dfc-b9ad-4769-8c92-a6c4dae69d19",
    "_uuid": "8f2839f25d086af736a60e9eeb907d3b93b6e0e5",
    "execution": {
     "iopub.execute_input": "2021-03-17T03:11:24.708286Z",
     "iopub.status.busy": "2021-03-17T03:11:24.707680Z",
     "iopub.status.idle": "2021-03-17T03:11:28.820313Z",
     "shell.execute_reply": "2021-03-17T03:11:28.818863Z"
    },
    "papermill": {
     "duration": 4.129093,
     "end_time": "2021-03-17T03:11:28.820477",
     "exception": false,
     "start_time": "2021-03-17T03:11:24.691384",
     "status": "completed"
    },
    "tags": []
   },
   "outputs": [],
   "source": [
    "import os\n",
    "import sys\n",
    "sys.path.append('../input/pytorch-images-seresnet')\n",
    "import math\n",
    "import time\n",
    "import random\n",
    "import numpy as np \n",
    "import cv2\n",
    "from tqdm.auto import tqdm\n",
    "from sklearn.model_selection import StratifiedKFold, GroupKFold, KFold\n",
    "import torch\n",
    "import torch.nn as nn\n",
    "import torch.nn.functional as F\n",
    "from torch.optim import Adam\n",
    "from torch.nn.parameter import Parameter\n",
    "from torch.utils.data import DataLoader, Dataset\n",
    "from torch.optim.lr_scheduler import CosineAnnealingLR\n",
    "import albumentations\n",
    "from albumentations import *\n",
    "from albumentations.pytorch import ToTensorV2\n",
    "import timm\n",
    "from torch.cuda.amp import autocast, GradScaler\n",
    "import glob as glob\n",
    "import pandas as pd\n",
    "from contextlib import contextmanager"
   ]
  },
  {
   "cell_type": "code",
   "execution_count": 2,
   "id": "golden-course",
   "metadata": {
    "execution": {
     "iopub.execute_input": "2021-03-17T03:11:28.845388Z",
     "iopub.status.busy": "2021-03-17T03:11:28.843506Z",
     "iopub.status.idle": "2021-03-17T03:11:28.845990Z",
     "shell.execute_reply": "2021-03-17T03:11:28.846395Z"
    },
    "papermill": {
     "duration": 0.017514,
     "end_time": "2021-03-17T03:11:28.846529",
     "exception": false,
     "start_time": "2021-03-17T03:11:28.829015",
     "status": "completed"
    },
    "tags": []
   },
   "outputs": [],
   "source": [
    "class CFG:\n",
    "    device='GPU'\n",
    "    nprocs=1\n",
    "    print_freq=100\n",
    "    num_workers=4\n",
    "    model_name='resnet200d'\n",
    "    teacher='../input/resnet200d-public/resnet200d_320_CV9632.pth'\n",
    "    startpoint = '../input/resnet200d-pretrained-weight/resnet200d_ra2-bdba9bf9.pth'\n",
    "    size=512\n",
    "    scheduler='CosineAnnealingLR'\n",
    "    epochs=1\n",
    "    T_max=1\n",
    "    lr=5e-4 \n",
    "    min_lr=1e-6\n",
    "    batch_size=16 \n",
    "    weight_decay=1e-6\n",
    "    gradient_accumulation_steps=1\n",
    "    max_grad_norm=1000\n",
    "    seed=416\n",
    "    target_size=11\n",
    "    n_fold=5\n",
    "    trn_fold=[0]\n",
    "    train=True\n",
    "    "
   ]
  },
  {
   "cell_type": "code",
   "execution_count": 3,
   "id": "boxed-simpson",
   "metadata": {
    "execution": {
     "iopub.execute_input": "2021-03-17T03:11:28.867278Z",
     "iopub.status.busy": "2021-03-17T03:11:28.866709Z",
     "iopub.status.idle": "2021-03-17T03:11:33.395406Z",
     "shell.execute_reply": "2021-03-17T03:11:33.394981Z"
    },
    "papermill": {
     "duration": 4.540277,
     "end_time": "2021-03-17T03:11:33.395526",
     "exception": false,
     "start_time": "2021-03-17T03:11:28.855249",
     "status": "completed"
    },
    "tags": []
   },
   "outputs": [
    {
     "data": {
      "text/html": [
       "<div>\n",
       "<style scoped>\n",
       "    .dataframe tbody tr th:only-of-type {\n",
       "        vertical-align: middle;\n",
       "    }\n",
       "\n",
       "    .dataframe tbody tr th {\n",
       "        vertical-align: top;\n",
       "    }\n",
       "\n",
       "    .dataframe thead th {\n",
       "        text-align: right;\n",
       "    }\n",
       "</style>\n",
       "<table border=\"1\" class=\"dataframe\">\n",
       "  <thead>\n",
       "    <tr style=\"text-align: right;\">\n",
       "      <th></th>\n",
       "      <th>image_path</th>\n",
       "    </tr>\n",
       "  </thead>\n",
       "  <tbody>\n",
       "    <tr>\n",
       "      <th>0</th>\n",
       "      <td>../input/data/images_003/images/00006199_010.png</td>\n",
       "    </tr>\n",
       "    <tr>\n",
       "      <th>1</th>\n",
       "      <td>../input/data/images_003/images/00004833_016.png</td>\n",
       "    </tr>\n",
       "    <tr>\n",
       "      <th>2</th>\n",
       "      <td>../input/data/images_003/images/00006260_000.png</td>\n",
       "    </tr>\n",
       "    <tr>\n",
       "      <th>3</th>\n",
       "      <td>../input/data/images_003/images/00004911_010.png</td>\n",
       "    </tr>\n",
       "    <tr>\n",
       "      <th>4</th>\n",
       "      <td>../input/data/images_003/images/00004186_007.png</td>\n",
       "    </tr>\n",
       "    <tr>\n",
       "      <th>...</th>\n",
       "      <td>...</td>\n",
       "    </tr>\n",
       "    <tr>\n",
       "      <th>112115</th>\n",
       "      <td>../input/data/images_006/images/00012351_000.png</td>\n",
       "    </tr>\n",
       "    <tr>\n",
       "      <th>112116</th>\n",
       "      <td>../input/data/images_006/images/00012558_000.png</td>\n",
       "    </tr>\n",
       "    <tr>\n",
       "      <th>112117</th>\n",
       "      <td>../input/data/images_006/images/00011572_000.png</td>\n",
       "    </tr>\n",
       "    <tr>\n",
       "      <th>112118</th>\n",
       "      <td>../input/data/images_006/images/00011654_000.png</td>\n",
       "    </tr>\n",
       "    <tr>\n",
       "      <th>112119</th>\n",
       "      <td>../input/data/images_006/images/00011612_000.png</td>\n",
       "    </tr>\n",
       "  </tbody>\n",
       "</table>\n",
       "<p>112120 rows × 1 columns</p>\n",
       "</div>"
      ],
      "text/plain": [
       "                                              image_path\n",
       "0       ../input/data/images_003/images/00006199_010.png\n",
       "1       ../input/data/images_003/images/00004833_016.png\n",
       "2       ../input/data/images_003/images/00006260_000.png\n",
       "3       ../input/data/images_003/images/00004911_010.png\n",
       "4       ../input/data/images_003/images/00004186_007.png\n",
       "...                                                  ...\n",
       "112115  ../input/data/images_006/images/00012351_000.png\n",
       "112116  ../input/data/images_006/images/00012558_000.png\n",
       "112117  ../input/data/images_006/images/00011572_000.png\n",
       "112118  ../input/data/images_006/images/00011654_000.png\n",
       "112119  ../input/data/images_006/images/00011612_000.png\n",
       "\n",
       "[112120 rows x 1 columns]"
      ]
     },
     "execution_count": 3,
     "metadata": {},
     "output_type": "execute_result"
    }
   ],
   "source": [
    "train_files = glob.glob('../input/data/*/*/*.png')\n",
    "data={'image_path':train_files}\n",
    "folds = pd.DataFrame(data,columns=['image_path'])\n",
    "folds"
   ]
  },
  {
   "cell_type": "code",
   "execution_count": 4,
   "id": "human-multimedia",
   "metadata": {
    "execution": {
     "iopub.execute_input": "2021-03-17T03:11:33.421811Z",
     "iopub.status.busy": "2021-03-17T03:11:33.421273Z",
     "iopub.status.idle": "2021-03-17T03:11:33.427609Z",
     "shell.execute_reply": "2021-03-17T03:11:33.427156Z"
    },
    "papermill": {
     "duration": 0.022885,
     "end_time": "2021-03-17T03:11:33.427710",
     "exception": false,
     "start_time": "2021-03-17T03:11:33.404825",
     "status": "completed"
    },
    "tags": []
   },
   "outputs": [],
   "source": [
    "@contextmanager\n",
    "def timer(name):\n",
    "    t0 = time.time()\n",
    "    LOGGER.info(f'[{name}] start')\n",
    "    yield\n",
    "    LOGGER.info(f'[{name}] done in {time.time() - t0:.0f} s.')\n",
    "\n",
    "\n",
    "def init_logger(log_file='train.log'):\n",
    "    from logging import getLogger, INFO, FileHandler,  Formatter,  StreamHandler\n",
    "    logger = getLogger(__name__)\n",
    "    logger.setLevel(INFO)\n",
    "    handler1 = StreamHandler()\n",
    "    handler1.setFormatter(Formatter(\"%(message)s\"))\n",
    "    handler2 = FileHandler(filename=log_file)\n",
    "    handler2.setFormatter(Formatter(\"%(message)s\"))\n",
    "    logger.addHandler(handler1)\n",
    "    logger.addHandler(handler2)\n",
    "    return logger\n",
    "\n",
    "LOGGER = init_logger()\n",
    "def seed_torch(seed=42):\n",
    "    random.seed(seed)\n",
    "    os.environ['PYTHONHASHSEED'] = str(seed)\n",
    "    np.random.seed(seed)\n",
    "    torch.manual_seed(seed)\n",
    "    torch.cuda.manual_seed(seed)\n",
    "    torch.backends.cudnn.deterministic = True\n",
    "\n",
    "seed_torch(seed=CFG.seed)"
   ]
  },
  {
   "cell_type": "code",
   "execution_count": 5,
   "id": "express-virus",
   "metadata": {
    "execution": {
     "iopub.execute_input": "2021-03-17T03:11:33.451601Z",
     "iopub.status.busy": "2021-03-17T03:11:33.450988Z",
     "iopub.status.idle": "2021-03-17T03:11:33.453996Z",
     "shell.execute_reply": "2021-03-17T03:11:33.453580Z"
    },
    "papermill": {
     "duration": 0.017417,
     "end_time": "2021-03-17T03:11:33.454100",
     "exception": false,
     "start_time": "2021-03-17T03:11:33.436683",
     "status": "completed"
    },
    "tags": []
   },
   "outputs": [],
   "source": [
    "class TrainDataset(Dataset):\n",
    "    def __init__(self, df, use_annot=False, annot_size=50, transform=None):\n",
    "        self.df = df\n",
    "        self.file_names = df['image_path'].values\n",
    "        self.transform = transform\n",
    "\n",
    "    def __len__(self):\n",
    "        return len(self.df)\n",
    "\n",
    "    def __getitem__(self, idx):\n",
    "        file_name = self.file_names[idx]\n",
    "        file_path = file_name\n",
    "        image = cv2.imread(file_path)\n",
    "        image = cv2.cvtColor(image, cv2.COLOR_BGR2RGB)\n",
    "        if self.transform:\n",
    "            augmented = self.transform(image=image)\n",
    "            image = augmented['image']\n",
    "        return image"
   ]
  },
  {
   "cell_type": "code",
   "execution_count": 6,
   "id": "innocent-accuracy",
   "metadata": {
    "execution": {
     "iopub.execute_input": "2021-03-17T03:11:33.476451Z",
     "iopub.status.busy": "2021-03-17T03:11:33.475787Z",
     "iopub.status.idle": "2021-03-17T03:11:33.478603Z",
     "shell.execute_reply": "2021-03-17T03:11:33.478108Z"
    },
    "papermill": {
     "duration": 0.015763,
     "end_time": "2021-03-17T03:11:33.478700",
     "exception": false,
     "start_time": "2021-03-17T03:11:33.462937",
     "status": "completed"
    },
    "tags": []
   },
   "outputs": [],
   "source": [
    "def get_transforms(*, data):\n",
    "    \n",
    "    if data == 'train':\n",
    "            return Compose([\n",
    "            Resize(CFG.size, CFG.size),\n",
    "            Normalize(\n",
    "                mean=[0.485, 0.456, 0.406],\n",
    "                std=[0.229, 0.224, 0.225],\n",
    "            ),\n",
    "            ToTensorV2(),\n",
    "        ])"
   ]
  },
  {
   "cell_type": "code",
   "execution_count": 7,
   "id": "demographic-material",
   "metadata": {
    "execution": {
     "iopub.execute_input": "2021-03-17T03:11:33.503041Z",
     "iopub.status.busy": "2021-03-17T03:11:33.502422Z",
     "iopub.status.idle": "2021-03-17T03:11:33.504942Z",
     "shell.execute_reply": "2021-03-17T03:11:33.505352Z"
    },
    "papermill": {
     "duration": 0.017744,
     "end_time": "2021-03-17T03:11:33.505465",
     "exception": false,
     "start_time": "2021-03-17T03:11:33.487721",
     "status": "completed"
    },
    "tags": []
   },
   "outputs": [],
   "source": [
    "class CustomResNet200D(nn.Module):\n",
    "    def __init__(self, model_name='resnet200d', pretrained=False):\n",
    "        super().__init__()\n",
    "        self.model = timm.create_model(model_name, pretrained=pretrained)\n",
    "        n_features = self.model.fc.in_features\n",
    "        self.model.global_pool = nn.Identity()\n",
    "        self.model.fc = nn.Identity()\n",
    "        self.pooling = nn.AdaptiveAvgPool2d(1)\n",
    "        self.fc = nn.Linear(n_features, CFG.target_size)\n",
    "\n",
    "    def forward(self, x):\n",
    "        bs = x.size(0)\n",
    "        features = self.model(x)\n",
    "        pooled_features = self.pooling(features).view(bs, -1)\n",
    "        output = self.fc(pooled_features)\n",
    "        return features"
   ]
  },
  {
   "cell_type": "code",
   "execution_count": 8,
   "id": "wrapped-graphics",
   "metadata": {
    "execution": {
     "iopub.execute_input": "2021-03-17T03:11:33.541384Z",
     "iopub.status.busy": "2021-03-17T03:11:33.536319Z",
     "iopub.status.idle": "2021-03-17T03:11:33.544247Z",
     "shell.execute_reply": "2021-03-17T03:11:33.543825Z"
    },
    "papermill": {
     "duration": 0.02987,
     "end_time": "2021-03-17T03:11:33.544355",
     "exception": false,
     "start_time": "2021-03-17T03:11:33.514485",
     "status": "completed"
    },
    "tags": []
   },
   "outputs": [],
   "source": [
    "class AverageMeter(object):\n",
    "    \"\"\"Computes and stores the average and current value\"\"\"\n",
    "    def __init__(self):\n",
    "        self.reset()\n",
    "\n",
    "    def reset(self):\n",
    "        self.val = 0\n",
    "        self.avg = 0\n",
    "        self.sum = 0\n",
    "        self.count = 0\n",
    "\n",
    "    def update(self, val, n=1):\n",
    "        self.val = val\n",
    "        self.sum += val * n\n",
    "        self.count += n\n",
    "        self.avg = self.sum / self.count\n",
    "\n",
    "\n",
    "def asMinutes(s):\n",
    "    m = math.floor(s / 60)\n",
    "    s -= m * 60\n",
    "    return '%dm %ds' % (m, s)\n",
    "\n",
    "\n",
    "def timeSince(since, percent):\n",
    "    now = time.time()\n",
    "    s = now - since\n",
    "    es = s / (percent)\n",
    "    rs = es - s\n",
    "    return '%s (remain %s)' % (asMinutes(s), asMinutes(rs))\n",
    "\n",
    "\n",
    "def train_fn(train_loader, teacher_model, model, criterion, optimizer, epoch, scheduler, device):\n",
    "    scaler = GradScaler()\n",
    "    batch_time = AverageMeter()\n",
    "    data_time = AverageMeter()\n",
    "    losses = AverageMeter()\n",
    "    scores = AverageMeter()\n",
    "    model.train()\n",
    "    start = end = time.time()\n",
    "    global_step = 0\n",
    "    for step, (images) in enumerate(train_loader):\n",
    "        data_time.update(time.time() - end)\n",
    "        images = images.to(device)\n",
    "        with torch.no_grad():\n",
    "            teacher_features = teacher_model(images)\n",
    "        \n",
    "        batch_size = images.size(0)\n",
    "        with autocast():\n",
    "            features = model(images)\n",
    "            loss = criterion(teacher_features, features)\n",
    "\n",
    "            losses.update(loss.item(), batch_size)\n",
    "            if CFG.gradient_accumulation_steps > 1:\n",
    "                loss = loss / CFG.gradient_accumulation_steps\n",
    "            scaler.scale(loss).backward()\n",
    "            grad_norm = torch.nn.utils.clip_grad_norm_(model.parameters(), CFG.max_grad_norm)\n",
    "            if (step + 1) % CFG.gradient_accumulation_steps == 0:\n",
    "                scaler.step(optimizer)\n",
    "                scaler.update()\n",
    "                optimizer.zero_grad()\n",
    "                global_step += 1\n",
    "\n",
    "        batch_time.update(time.time() - end)\n",
    "        end = time.time()\n",
    "\n",
    "        if step % CFG.print_freq == 0 or step == (len(train_loader)-1):\n",
    "            print('Epoch: [{0}][{1}/{2}] '\n",
    "                  'Data {data_time.val:.3f} ({data_time.avg:.3f}) '\n",
    "                  'Elapsed {remain:s} '\n",
    "                  'Loss: {loss.val:.4f}({loss.avg:.4f}) '\n",
    "                  'Grad: {grad_norm:.4f}  '\n",
    "                  .format(\n",
    "                   epoch+1, step, len(train_loader), batch_time=batch_time,\n",
    "                   data_time=data_time, loss=losses,\n",
    "                   remain=timeSince(start, float(step+1)/len(train_loader)),\n",
    "                   grad_norm=grad_norm,\n",
    "                   ))\n",
    "    return losses.avg"
   ]
  },
  {
   "cell_type": "code",
   "execution_count": 9,
   "id": "minute-association",
   "metadata": {
    "execution": {
     "iopub.execute_input": "2021-03-17T03:11:33.574015Z",
     "iopub.status.busy": "2021-03-17T03:11:33.573252Z",
     "iopub.status.idle": "2021-03-17T03:11:33.575548Z",
     "shell.execute_reply": "2021-03-17T03:11:33.575998Z"
    },
    "papermill": {
     "duration": 0.022428,
     "end_time": "2021-03-17T03:11:33.576112",
     "exception": false,
     "start_time": "2021-03-17T03:11:33.553684",
     "status": "completed"
    },
    "tags": []
   },
   "outputs": [],
   "source": [
    "def train_loop(folds, fold):\n",
    "    \n",
    "    train_folds = folds.reset_index(drop=True)\n",
    "\n",
    "\n",
    "    train_dataset = TrainDataset(train_folds, use_annot=True,\n",
    "                                 transform=get_transforms(data='train'))\n",
    "    \n",
    "    train_loader = DataLoader(train_dataset, \n",
    "                              batch_size=CFG.batch_size, \n",
    "                              shuffle=True, \n",
    "                              num_workers=CFG.num_workers, pin_memory=True, drop_last=True)\n",
    "\n",
    "    device = torch.device('cuda' if torch.cuda.is_available() else 'cpu')\n",
    "        \n",
    "    teacher_model = CustomResNet200D(CFG.model_name, pretrained=False)\n",
    "    teacher_model.load_state_dict(torch.load(CFG.teacher)['model'])\n",
    "    for param in teacher_model.parameters():\n",
    "        param.requires_grad = False\n",
    "    teacher_model.eval()\n",
    "    teacher_model.to(device)\n",
    "    \n",
    "    model = CustomResNet200D(CFG.model_name, pretrained=True)\n",
    "    model.to(device)\n",
    "\n",
    "    optimizer = Adam(model.parameters(), lr=CFG.lr, weight_decay=CFG.weight_decay, amsgrad=False)\n",
    "    scheduler = CosineAnnealingLR(optimizer, T_max=CFG.T_max, eta_min=CFG.min_lr, last_epoch=-1)\n",
    "\n",
    "    train_criterion = nn.MSELoss()\n",
    "\n",
    "    best_score = 0.\n",
    "    best_loss = np.inf\n",
    "    \n",
    "    for epoch in range(CFG.epochs):\n",
    "        start_time = time.time()\n",
    "\n",
    "        avg_loss = train_fn(train_loader, teacher_model, model, train_criterion, optimizer, epoch, scheduler, device)\n",
    "\n",
    "        scheduler.step()\n",
    "\n",
    "\n",
    "        elapsed = time.time() - start_time\n",
    "\n",
    "        if CFG.device == 'GPU':\n",
    "            LOGGER.info(f'Epoch {epoch+1} - avg_train_loss: {avg_loss:.4f}   time: {elapsed:.0f}s')\n",
    "        \n",
    "           \n",
    "        if avg_loss < best_loss:\n",
    "            best_loss = avg_loss      \n",
    "            LOGGER.info(f'Epoch {epoch+1} - Save Best Loss: {best_loss:.4f} Model')\n",
    "            torch.save({'model': model.state_dict()},\n",
    "                       f'{CFG.model_name}_fold{fold}_best_loss.pth')"
   ]
  },
  {
   "cell_type": "code",
   "execution_count": 10,
   "id": "going-memorabilia",
   "metadata": {
    "execution": {
     "iopub.execute_input": "2021-03-17T03:11:33.600245Z",
     "iopub.status.busy": "2021-03-17T03:11:33.599587Z",
     "iopub.status.idle": "2021-03-17T03:11:33.602445Z",
     "shell.execute_reply": "2021-03-17T03:11:33.601998Z"
    },
    "papermill": {
     "duration": 0.017025,
     "end_time": "2021-03-17T03:11:33.602541",
     "exception": false,
     "start_time": "2021-03-17T03:11:33.585516",
     "status": "completed"
    },
    "tags": []
   },
   "outputs": [],
   "source": [
    "def main():\n",
    "    if CFG.train:\n",
    "        oof_df = pd.DataFrame()\n",
    "        for fold in range(CFG.n_fold):\n",
    "            if fold in CFG.trn_fold:\n",
    "                train_loop(folds, fold)"
   ]
  },
  {
   "cell_type": "code",
   "execution_count": 11,
   "id": "changing-chain",
   "metadata": {
    "execution": {
     "iopub.execute_input": "2021-03-17T03:11:33.624951Z",
     "iopub.status.busy": "2021-03-17T03:11:33.624328Z",
     "iopub.status.idle": "2021-03-17T03:11:33.626912Z",
     "shell.execute_reply": "2021-03-17T03:11:33.627328Z"
    },
    "papermill": {
     "duration": 0.015187,
     "end_time": "2021-03-17T03:11:33.627440",
     "exception": false,
     "start_time": "2021-03-17T03:11:33.612253",
     "status": "completed"
    },
    "tags": []
   },
   "outputs": [],
   "source": [
    "# if __name__ == '__main__':\n",
    "#     main()"
   ]
  },
  {
   "cell_type": "code",
   "execution_count": null,
   "id": "ethical-sustainability",
   "metadata": {
    "papermill": {
     "duration": 0.009365,
     "end_time": "2021-03-17T03:11:33.646251",
     "exception": false,
     "start_time": "2021-03-17T03:11:33.636886",
     "status": "completed"
    },
    "tags": []
   },
   "outputs": [],
   "source": []
  }
 ],
 "metadata": {
  "kernelspec": {
   "display_name": "Python 3",
   "language": "python",
   "name": "python3"
  },
  "language_info": {
   "codemirror_mode": {
    "name": "ipython",
    "version": 3
   },
   "file_extension": ".py",
   "mimetype": "text/x-python",
   "name": "python",
   "nbconvert_exporter": "python",
   "pygments_lexer": "ipython3",
   "version": "3.7.9"
  },
  "papermill": {
   "default_parameters": {},
   "duration": 14.78565,
   "end_time": "2021-03-17T03:11:34.463947",
   "environment_variables": {},
   "exception": null,
   "input_path": "__notebook__.ipynb",
   "output_path": "__notebook__.ipynb",
   "parameters": {},
   "start_time": "2021-03-17T03:11:19.678297",
   "version": "2.3.2"
  }
 },
 "nbformat": 4,
 "nbformat_minor": 5
}
