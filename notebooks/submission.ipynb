{
 "cells": [
  {
   "cell_type": "code",
   "execution_count": 1,
   "id": "certified-treat",
   "metadata": {
    "_kg_hide-input": true,
    "_kg_hide-output": true,
    "execution": {
     "iopub.execute_input": "2021-08-10T02:27:25.331882Z",
     "iopub.status.busy": "2021-08-10T02:27:25.330232Z",
     "iopub.status.idle": "2021-08-10T02:27:52.575376Z",
     "shell.execute_reply": "2021-08-10T02:27:52.574687Z",
     "shell.execute_reply.started": "2021-08-10T01:57:54.775332Z"
    },
    "papermill": {
     "duration": 27.348278,
     "end_time": "2021-08-10T02:27:52.575557",
     "exception": false,
     "start_time": "2021-08-10T02:27:25.227279",
     "status": "completed"
    },
    "tags": []
   },
   "outputs": [
    {
     "name": "stdout",
     "output_type": "stream",
     "text": [
      "gdcm/\r\n",
      "gdcm/conda-4.8.4-py37hc8dfbb8_2.tar.bz2\r\n",
      "gdcm/gdcm-2.8.9-py37h71b2a6d_0.tar.bz2\r\n",
      "gdcm/libjpeg-turbo-2.0.3-h516909a_1.tar.bz2\r\n",
      "\r\n",
      "Downloading and Extracting Packages\r\n",
      "######################################################################## | 100% \r\n",
      "Preparing transaction: - \b\bdone\r\n",
      "Verifying transaction: | \b\bdone\r\n",
      "Executing transaction: - \b\bdone\r\n"
     ]
    }
   ],
   "source": [
    "!cp ../input/gdcm-conda-install/gdcm.tar .\n",
    "!tar -xvzf gdcm.tar\n",
    "!conda install --offline ./gdcm/gdcm-2.8.9-py37h71b2a6d_0.tar.bz2"
   ]
  },
  {
   "cell_type": "code",
   "execution_count": 2,
   "id": "aging-wrist",
   "metadata": {
    "_kg_hide-input": true,
    "execution": {
     "iopub.execute_input": "2021-08-10T02:27:52.674280Z",
     "iopub.status.busy": "2021-08-10T02:27:52.673701Z",
     "iopub.status.idle": "2021-08-10T02:27:52.818018Z",
     "shell.execute_reply": "2021-08-10T02:27:52.817136Z",
     "shell.execute_reply.started": "2021-08-10T01:58:22.424142Z"
    },
    "papermill": {
     "duration": 0.196352,
     "end_time": "2021-08-10T02:27:52.818165",
     "exception": false,
     "start_time": "2021-08-10T02:27:52.621813",
     "status": "completed"
    },
    "tags": []
   },
   "outputs": [],
   "source": [
    "import pandas as pd \n",
    "df = pd.read_csv('../input/siim-covid19-detection/sample_submission.csv')\n",
    "if df.shape[0] == 2477:\n",
    "    fast_sub = True\n",
    "    df.to_csv('submission.csv', index=False)\n",
    "else:\n",
    "    fast_sub = False"
   ]
  },
  {
   "cell_type": "code",
   "execution_count": 3,
   "id": "exciting-resort",
   "metadata": {
    "execution": {
     "iopub.execute_input": "2021-08-10T02:27:52.921825Z",
     "iopub.status.busy": "2021-08-10T02:27:52.920913Z",
     "iopub.status.idle": "2021-08-10T02:28:03.605514Z",
     "shell.execute_reply": "2021-08-10T02:28:03.605089Z",
     "shell.execute_reply.started": "2021-08-10T01:58:22.734288Z"
    },
    "papermill": {
     "duration": 10.74207,
     "end_time": "2021-08-10T02:28:03.605638",
     "exception": false,
     "start_time": "2021-08-10T02:27:52.863568",
     "status": "completed"
    },
    "tags": []
   },
   "outputs": [
    {
     "data": {
      "application/vnd.jupyter.widget-view+json": {
       "model_id": "e08f323f3e97434c96e4ecd2f24df6db",
       "version_major": 2,
       "version_minor": 0
      },
      "text/plain": [
       "0it [00:00, ?it/s]"
      ]
     },
     "metadata": {},
     "output_type": "display_data"
    }
   ],
   "source": [
    "import os\n",
    "\n",
    "from PIL import Image\n",
    "import pandas as pd\n",
    "from tqdm.auto import tqdm\n",
    "import numpy as np\n",
    "import pydicom\n",
    "from pydicom.pixel_data_handlers.util import apply_voi_lut\n",
    "\n",
    "def read_xray(path, voi_lut = True, fix_monochrome = True):\n",
    "    # Original from: https://www.kaggle.com/raddar/convert-dicom-to-np-array-the-correct-way\n",
    "    dicom = pydicom.read_file(path)\n",
    "    \n",
    "    # VOI LUT (if available by DICOM device) is used to transform raw DICOM data to \n",
    "    # \"human-friendly\" view\n",
    "    if voi_lut:\n",
    "        data = apply_voi_lut(dicom.pixel_array, dicom)\n",
    "    else:\n",
    "        data = dicom.pixel_array\n",
    "               \n",
    "    # depending on this value, X-ray may look inverted - fix that:\n",
    "    if fix_monochrome and dicom.PhotometricInterpretation == \"MONOCHROME1\":\n",
    "        data = np.amax(data) - data\n",
    "        \n",
    "    data = data - np.min(data)\n",
    "    data = data / np.max(data)\n",
    "    data = (data * 255).astype(np.uint8)\n",
    "        \n",
    "    return data\n",
    "\n",
    "def resize(array, size, keep_ratio=False, resample=Image.LANCZOS):\n",
    "    # Original from: https://www.kaggle.com/xhlulu/vinbigdata-process-and-resize-to-image\n",
    "    im = Image.fromarray(array)\n",
    "    \n",
    "    if keep_ratio:\n",
    "        im.thumbnail((size, size), resample)\n",
    "    else:\n",
    "        im = im.resize((size, size), resample)\n",
    "    \n",
    "    return im\n",
    "\n",
    "image_id = []\n",
    "study_id = []\n",
    "dim0 = []\n",
    "dim1 = []\n",
    "split = 'test'\n",
    "save_dir = f'/kaggle/tmp/{split}/image/'\n",
    "os.makedirs(save_dir, exist_ok=True)\n",
    "\n",
    "for dirname, _, filenames in tqdm(os.walk(f'../input/siim-covid19-detection/{split}')):\n",
    "    for file in filenames:\n",
    "        # set keep_ratio=True to have original aspect ratio\n",
    "        xray = read_xray(os.path.join(dirname, file))\n",
    "        im = resize(xray, size=512)  \n",
    "        im.save(os.path.join(save_dir, file.replace('.dcm', '.png')))\n",
    "        image_id.append(file.replace('.dcm', ''))\n",
    "        study_id.append(dirname.split('/')[-2])\n",
    "        dim0.append(xray.shape[0])\n",
    "        dim1.append(xray.shape[1])\n",
    "        \n",
    "        if len(dim0) >10 and fast_sub:\n",
    "            break\n",
    "    if len(dim0) >10 and fast_sub:\n",
    "            break\n",
    "meta = pd.DataFrame.from_dict({'image_id': image_id, 'dim0': dim0, 'dim1': dim1, 'study_id': study_id})"
   ]
  },
  {
   "cell_type": "code",
   "execution_count": 4,
   "id": "small-bottom",
   "metadata": {
    "execution": {
     "iopub.execute_input": "2021-08-10T02:28:03.712892Z",
     "iopub.status.busy": "2021-08-10T02:28:03.712077Z",
     "iopub.status.idle": "2021-08-10T02:28:03.716764Z",
     "shell.execute_reply": "2021-08-10T02:28:03.716355Z",
     "shell.execute_reply.started": "2021-08-10T01:58:33.326572Z"
    },
    "papermill": {
     "duration": 0.062253,
     "end_time": "2021-08-10T02:28:03.716906",
     "exception": false,
     "start_time": "2021-08-10T02:28:03.654653",
     "status": "completed"
    },
    "tags": []
   },
   "outputs": [],
   "source": [
    "meta.to_csv('test_meta.csv', index=False)"
   ]
  },
  {
   "cell_type": "code",
   "execution_count": 5,
   "id": "mighty-support",
   "metadata": {
    "_kg_hide-input": true,
    "execution": {
     "iopub.execute_input": "2021-08-10T02:28:03.844931Z",
     "iopub.status.busy": "2021-08-10T02:28:03.839679Z",
     "iopub.status.idle": "2021-08-10T02:31:09.993171Z",
     "shell.execute_reply": "2021-08-10T02:31:09.992251Z",
     "shell.execute_reply.started": "2021-08-10T01:58:33.336602Z"
    },
    "papermill": {
     "duration": 186.228138,
     "end_time": "2021-08-10T02:31:09.993335",
     "exception": false,
     "start_time": "2021-08-10T02:28:03.765197",
     "status": "completed"
    },
    "tags": []
   },
   "outputs": [],
   "source": [
    "!mkdir det_txt\n",
    "!mkdir det\n",
    "! pip install ../input/siim-libs/addict-2.4.0-py3-none-any.whl >> /dev/null\n",
    "! pip install ../input/siim-libs/timm-0.4.12-py3-none-any.whl >> /dev/null\n",
    "! pip install ../input/siim-libs/ensemble_boxes-1.0.6-py3-none-any.whl >> /dev/null\n",
    "! pip install ../input/siim-libs/loguru-0.5.3-py3-none-any.whl >> /dev/null\n",
    "! pip install ../input/siim-libs/thop-0.0.31.post2005241907-py3-none-any.whl >> /dev/null\n",
    "! pip install ../input/pycocotools/pycocotools-2.0-cp37-cp37m-linux_x86_64.whl >> /dev/null\n",
    "! pip install ../input/omegaconf/omegaconf-2.0.5-py3-none-any.whl >> /dev/null"
   ]
  },
  {
   "cell_type": "code",
   "execution_count": 6,
   "id": "deluxe-degree",
   "metadata": {
    "execution": {
     "iopub.execute_input": "2021-08-10T02:31:10.091888Z",
     "iopub.status.busy": "2021-08-10T02:31:10.091105Z",
     "iopub.status.idle": "2021-08-10T02:31:11.467807Z",
     "shell.execute_reply": "2021-08-10T02:31:11.467332Z",
     "shell.execute_reply.started": "2021-08-10T02:01:42.971501Z"
    },
    "papermill": {
     "duration": 1.428221,
     "end_time": "2021-08-10T02:31:11.467955",
     "exception": false,
     "start_time": "2021-08-10T02:31:10.039734",
     "status": "completed"
    },
    "tags": []
   },
   "outputs": [],
   "source": [
    "!cp -r ../input/siim-v5-mh/* ."
   ]
  },
  {
   "cell_type": "code",
   "execution_count": 7,
   "id": "ceramic-function",
   "metadata": {
    "_kg_hide-output": true,
    "execution": {
     "iopub.execute_input": "2021-08-10T02:31:11.569492Z",
     "iopub.status.busy": "2021-08-10T02:31:11.564644Z",
     "iopub.status.idle": "2021-08-10T02:32:21.680299Z",
     "shell.execute_reply": "2021-08-10T02:32:21.679780Z",
     "shell.execute_reply.started": "2021-08-10T02:01:44.311196Z"
    },
    "papermill": {
     "duration": 70.166166,
     "end_time": "2021-08-10T02:32:21.680438",
     "exception": false,
     "start_time": "2021-08-10T02:31:11.514272",
     "status": "completed"
    },
    "tags": []
   },
   "outputs": [
    {
     "name": "stdout",
     "output_type": "stream",
     "text": [
      "25\r\n",
      "100%|███████████████████████████████████████| 25/25 [00:00<00:00, 106346.45it/s]\r\n",
      "0 ['det_txt/_kaggle_input_siim-v5-weights_384cf1_cls1_x_f4_exp_weights_best_hflip0.txt', 'det_txt/_kaggle_input_siim-v5-weights_384cf1_r101_f2_exp_weights_best_hflip0.txt', 'det_txt/_kaggle_input_siim-v5-weights_384cf1_r101_f3_exp_weights_best_hflip0.txt', 'det_txt/_kaggle_input_siim-v5-weights_384cf1_l0_f2_exp_weights_best_hflip0.txt', 'det_txt/_kaggle_input_siim-v5-weights_384cf1_cls1_x_f1_exp_weights_best_hflip0.txt', 'det_txt/_kaggle_input_siim-v5-weights_384cf1_cls1_m_f3_exp_weights_best_hflip0.txt', 'det_txt/_kaggle_input_siim-v5-weights_384cf1_res50_f3_exp_weights_best_hflip0.txt', 'det_txt/_kaggle_input_siim-v5-weights_384cf1_r101_f0_exp_weights_best_hflip0.txt', 'det_txt/_kaggle_input_siim-v5-weights_384cf1_res50_f2_exp_weights_best_hflip0.txt', 'det_txt/_kaggle_input_siim-v5-weights_384cf1_l0_f0_exp_weights_best_hflip0.txt', 'det_txt/_kaggle_input_siim-v5-weights_384cf1_r101_f4_exp_weights_best_hflip0.txt', 'det_txt/_kaggle_input_siim-v5-weights_384cf1_cls1_m_f0_exp_weights_best_hflip0.txt', 'det_txt/_kaggle_input_siim-v5-weights_384cf1_res50_f0_exp_weights_best_hflip0.txt', 'det_txt/_kaggle_input_siim-v5-weights_384cf1_l0_f3_exp_weights_best_hflip0.txt', 'det_txt/_kaggle_input_siim-v5-weights_384cf1_cls1_x_f0_exp_weights_best_hflip0.txt', 'det_txt/_kaggle_input_siim-v5-weights_384cf1_l0_f1_exp_weights_best_hflip0.txt', 'det_txt/_kaggle_input_siim-v5-weights_384cf1_cls1_m_f2_exp_weights_best_hflip0.txt', 'det_txt/_kaggle_input_siim-v5-weights_384cf1_cls1_m_f1_exp_weights_best_hflip0.txt', 'det_txt/_kaggle_input_siim-v5-weights_384cf1_cls1_x_f2_exp_weights_best_hflip0.txt', 'det_txt/_kaggle_input_siim-v5-weights_384cf1_res50_f4_exp_weights_best_hflip0.txt', 'det_txt/_kaggle_input_siim-v5-weights_384cf1_res50_f1_exp_weights_best_hflip0.txt', 'det_txt/_kaggle_input_siim-v5-weights_384cf1_cls1_x_f3_exp_weights_best_hflip0.txt', 'det_txt/_kaggle_input_siim-v5-weights_384cf1_l0_f4_exp_weights_best_hflip0.txt', 'det_txt/_kaggle_input_siim-v5-weights_384cf1_cls1_m_f4_exp_weights_best_hflip0.txt', 'det_txt/_kaggle_input_siim-v5-weights_384cf1_r101_f1_exp_weights_best_hflip0.txt']\r\n",
      "  0%|                                                     | 0/1 [00:00<?, ?it/s]/opt/conda/lib/python3.7/site-packages/torch/nn/functional.py:1639: UserWarning: nn.functional.sigmoid is deprecated. Use torch.sigmoid instead.\r\n",
      "  warnings.warn(\"nn.functional.sigmoid is deprecated. Use torch.sigmoid instead.\")\r\n",
      "100%|█████████████████████████████████████████████| 1/1 [00:15<00:00, 15.54s/it]\r\n"
     ]
    }
   ],
   "source": [
    "!python inference.py --is_val 0 --output_path det_txt/ --input_path '/kaggle/tmp/test/image/*png' --weight_path '/kaggle/input/siim-v5-weights/*/*/*/best.pt'"
   ]
  },
  {
   "cell_type": "code",
   "execution_count": 8,
   "id": "other-mediterranean",
   "metadata": {
    "execution": {
     "iopub.execute_input": "2021-08-10T02:32:21.780408Z",
     "iopub.status.busy": "2021-08-10T02:32:21.779678Z",
     "iopub.status.idle": "2021-08-10T02:32:22.830621Z",
     "shell.execute_reply": "2021-08-10T02:32:22.829527Z",
     "shell.execute_reply.started": "2021-08-10T02:02:42.765557Z"
    },
    "papermill": {
     "duration": 1.10251,
     "end_time": "2021-08-10T02:32:22.830751",
     "exception": false,
     "start_time": "2021-08-10T02:32:21.728241",
     "status": "completed"
    },
    "tags": []
   },
   "outputs": [],
   "source": [
    "!cp -r ../input/yolox-inference/* ."
   ]
  },
  {
   "cell_type": "code",
   "execution_count": 9,
   "id": "southern-myanmar",
   "metadata": {
    "execution": {
     "iopub.execute_input": "2021-08-10T02:32:22.934563Z",
     "iopub.status.busy": "2021-08-10T02:32:22.930938Z",
     "iopub.status.idle": "2021-08-10T02:33:26.684747Z",
     "shell.execute_reply": "2021-08-10T02:33:26.685213Z",
     "shell.execute_reply.started": "2021-08-10T02:02:43.989614Z"
    },
    "papermill": {
     "duration": 63.807588,
     "end_time": "2021-08-10T02:33:26.685391",
     "exception": false,
     "start_time": "2021-08-10T02:32:22.877803",
     "status": "completed"
    },
    "tags": []
   },
   "outputs": [
    {
     "name": "stdout",
     "output_type": "stream",
     "text": [
      "100%|█████████████████████████████████████████████| 1/1 [00:03<00:00,  3.18s/it]\r\n"
     ]
    }
   ],
   "source": [
    "!python inference.py -f ../input/yolox-weights/yolox_weights/yolox_siim_d_f0.py -c ss --path '/kaggle/tmp/test/image/*png' \\\n",
    "    --wei_dir ../input/yolox-weights/yolox_weights/ --conf 0.0001 --nms 0.5 --tsize 384 --save_result --device gpu"
   ]
  },
  {
   "cell_type": "code",
   "execution_count": 10,
   "id": "premier-administration",
   "metadata": {
    "execution": {
     "iopub.execute_input": "2021-08-10T02:33:26.788669Z",
     "iopub.status.busy": "2021-08-10T02:33:26.787954Z",
     "iopub.status.idle": "2021-08-10T02:33:28.040088Z",
     "shell.execute_reply": "2021-08-10T02:33:28.039515Z",
     "shell.execute_reply.started": "2021-08-10T02:03:30.845792Z"
    },
    "papermill": {
     "duration": 1.306217,
     "end_time": "2021-08-10T02:33:28.040222",
     "exception": false,
     "start_time": "2021-08-10T02:33:26.734005",
     "status": "completed"
    },
    "tags": []
   },
   "outputs": [],
   "source": [
    "!cp -r ../input/siimeffdet/* ."
   ]
  },
  {
   "cell_type": "code",
   "execution_count": 11,
   "id": "turned-steel",
   "metadata": {
    "_kg_hide-output": true,
    "execution": {
     "iopub.execute_input": "2021-08-10T02:33:28.149080Z",
     "iopub.status.busy": "2021-08-10T02:33:28.144908Z",
     "iopub.status.idle": "2021-08-10T02:33:59.288026Z",
     "shell.execute_reply": "2021-08-10T02:33:59.287460Z",
     "shell.execute_reply.started": "2021-08-10T02:03:32.063787Z"
    },
    "papermill": {
     "duration": 31.197472,
     "end_time": "2021-08-10T02:33:59.288162",
     "exception": false,
     "start_time": "2021-08-10T02:33:28.090690",
     "status": "completed"
    },
    "tags": []
   },
   "outputs": [
    {
     "name": "stdout",
     "output_type": "stream",
     "text": [
      "loaded ../input/siim-det-models/d5_1c_512_lr1e4_bs20_augv2_rsc7sc_60epo_best_fold0.pth\r\n",
      "loaded ../input/siim-det-models/d5_1c_512_lr1e4_bs20_augv2_rsc7sc_60epo_best_fold1.pth\r\n",
      "loaded ../input/siim-det-models/d5_1c_512_lr1e4_bs20_augv2_rsc7sc_60epo_best_fold2.pth\r\n",
      "loaded ../input/siim-det-models/d5_1c_512_lr1e4_bs20_augv2_rsc7sc_60epo_best_fold3.pth\r\n",
      "loaded ../input/siim-det-models/d5_1c_512_lr1e4_bs20_augv2_rsc7sc_60epo_best_fold4.pth\r\n",
      "100%|█████████████████████████████████████████████| 1/1 [00:01<00:00,  1.95s/it]\r\n",
      "100%|█████████████████████████████████████████████| 1/1 [00:01<00:00,  1.41s/it]\r\n",
      "100%|█████████████████████████████████████████████| 1/1 [00:00<00:00,  1.26it/s]\r\n",
      "100%|█████████████████████████████████████████████| 1/1 [00:00<00:00,  1.26it/s]\r\n",
      "100%|█████████████████████████████████████████████| 1/1 [00:00<00:00,  1.21it/s]\r\n",
      "\u001b[0m"
     ]
    }
   ],
   "source": [
    "!python predict_oof_det.py --is_val 0 --test_path '/kaggle/tmp/test/image/*png' --model_dir ../input/siim-det-models/"
   ]
  },
  {
   "cell_type": "code",
   "execution_count": 12,
   "id": "eight-sculpture",
   "metadata": {
    "execution": {
     "iopub.execute_input": "2021-08-10T02:33:59.404604Z",
     "iopub.status.busy": "2021-08-10T02:33:59.403819Z",
     "iopub.status.idle": "2021-08-10T02:34:00.077830Z",
     "shell.execute_reply": "2021-08-10T02:34:00.077264Z",
     "shell.execute_reply.started": "2021-08-10T02:04:04.137511Z"
    },
    "papermill": {
     "duration": 0.734187,
     "end_time": "2021-08-10T02:34:00.077988",
     "exception": false,
     "start_time": "2021-08-10T02:33:59.343801",
     "status": "completed"
    },
    "tags": []
   },
   "outputs": [],
   "source": [
    "! cp det/* det_txt"
   ]
  },
  {
   "cell_type": "code",
   "execution_count": 13,
   "id": "prostate-blame",
   "metadata": {
    "execution": {
     "iopub.execute_input": "2021-08-10T02:34:00.201410Z",
     "iopub.status.busy": "2021-08-10T02:34:00.196791Z",
     "iopub.status.idle": "2021-08-10T02:34:06.664847Z",
     "shell.execute_reply": "2021-08-10T02:34:06.663939Z",
     "shell.execute_reply.started": "2021-08-10T02:04:04.883383Z"
    },
    "papermill": {
     "duration": 6.529613,
     "end_time": "2021-08-10T02:34:06.665019",
     "exception": false,
     "start_time": "2021-08-10T02:34:00.135406",
     "status": "completed"
    },
    "tags": []
   },
   "outputs": [
    {
     "name": "stdout",
     "output_type": "stream",
     "text": [
      "40\r\n",
      "\u001b[0m"
     ]
    }
   ],
   "source": [
    "! python ensemble1.py --input_path  'det_txt/*txt' --image_path '/kaggle/tmp/test/image/*png' --thr 0.001"
   ]
  },
  {
   "cell_type": "code",
   "execution_count": 14,
   "id": "square-bobby",
   "metadata": {
    "execution": {
     "iopub.execute_input": "2021-08-10T02:34:06.788139Z",
     "iopub.status.busy": "2021-08-10T02:34:06.787289Z",
     "iopub.status.idle": "2021-08-10T02:34:06.790066Z",
     "shell.execute_reply": "2021-08-10T02:34:06.789639Z",
     "shell.execute_reply.started": "2021-08-10T02:04:11.842128Z"
    },
    "papermill": {
     "duration": 0.068802,
     "end_time": "2021-08-10T02:34:06.790194",
     "exception": false,
     "start_time": "2021-08-10T02:34:06.721392",
     "status": "completed"
    },
    "tags": []
   },
   "outputs": [],
   "source": [
    "#mask_dir = f'/kaggle/tmp/{split}/mask/'\n",
    "#os.makedirs(mask_dir, exist_ok=True)"
   ]
  },
  {
   "cell_type": "code",
   "execution_count": 15,
   "id": "operating-gamma",
   "metadata": {
    "execution": {
     "iopub.execute_input": "2021-08-10T02:34:06.914352Z",
     "iopub.status.busy": "2021-08-10T02:34:06.913260Z",
     "iopub.status.idle": "2021-08-10T02:34:06.915689Z",
     "shell.execute_reply": "2021-08-10T02:34:06.916074Z",
     "shell.execute_reply.started": "2021-08-10T02:04:11.851769Z"
    },
    "papermill": {
     "duration": 0.06761,
     "end_time": "2021-08-10T02:34:06.916209",
     "exception": false,
     "start_time": "2021-08-10T02:34:06.848599",
     "status": "completed"
    },
    "tags": []
   },
   "outputs": [],
   "source": [
    "#!cp -r ../input/siimsegs/* ."
   ]
  },
  {
   "cell_type": "code",
   "execution_count": 16,
   "id": "confident-rochester",
   "metadata": {
    "_kg_hide-output": true,
    "execution": {
     "iopub.execute_input": "2021-08-10T02:34:07.039915Z",
     "iopub.status.busy": "2021-08-10T02:34:07.039339Z",
     "iopub.status.idle": "2021-08-10T02:34:07.043225Z",
     "shell.execute_reply": "2021-08-10T02:34:07.042782Z",
     "shell.execute_reply.started": "2021-08-10T02:04:11.861575Z"
    },
    "papermill": {
     "duration": 0.065933,
     "end_time": "2021-08-10T02:34:07.043344",
     "exception": false,
     "start_time": "2021-08-10T02:34:06.977411",
     "status": "completed"
    },
    "tags": []
   },
   "outputs": [],
   "source": [
    "#!python train_seg.py --image_path '/kaggle/tmp/test/image/*png' --weight_path best_loss.pth"
   ]
  },
  {
   "cell_type": "code",
   "execution_count": 17,
   "id": "absent-mustang",
   "metadata": {
    "execution": {
     "iopub.execute_input": "2021-08-10T02:34:07.171050Z",
     "iopub.status.busy": "2021-08-10T02:34:07.166024Z",
     "iopub.status.idle": "2021-08-10T02:34:09.225411Z",
     "shell.execute_reply": "2021-08-10T02:34:09.223004Z",
     "shell.execute_reply.started": "2021-08-10T02:04:11.870529Z"
    },
    "papermill": {
     "duration": 2.120398,
     "end_time": "2021-08-10T02:34:09.226351",
     "exception": false,
     "start_time": "2021-08-10T02:34:07.105953",
     "status": "completed"
    },
    "tags": []
   },
   "outputs": [],
   "source": [
    "!cp -r ../input/siim-cls-code/* ."
   ]
  },
  {
   "cell_type": "code",
   "execution_count": 18,
   "id": "streaming-document",
   "metadata": {
    "_kg_hide-output": true,
    "execution": {
     "iopub.execute_input": "2021-08-10T02:34:09.358003Z",
     "iopub.status.busy": "2021-08-10T02:34:09.352802Z",
     "iopub.status.idle": "2021-08-10T02:35:53.911370Z",
     "shell.execute_reply": "2021-08-10T02:35:53.910701Z",
     "shell.execute_reply.started": "2021-08-10T02:04:13.900064Z"
    },
    "papermill": {
     "duration": 104.625405,
     "end_time": "2021-08-10T02:35:53.911527",
     "exception": false,
     "start_time": "2021-08-10T02:34:09.286122",
     "status": "completed"
    },
    "tags": []
   },
   "outputs": [
    {
     "name": "stdout",
     "output_type": "stream",
     "text": [
      "[ √ ] Using config file n_cf11_6\r\n",
      "[ √ ] Using mode:  test\r\n",
      "2021-08-10 02:34:12.786388: I tensorflow/stream_executor/platform/default/dso_loader.cc:49] Successfully opened dynamic library libcudart.so.11.0\r\n",
      "100%|█████████████████████████████████████████████| 1/1 [00:06<00:00,  6.87s/it]\r\n"
     ]
    }
   ],
   "source": [
    "!python main.py -C n_cf11_6 -M test -W ../input/siim-cls-weights/n_cf11_6_f3/"
   ]
  },
  {
   "cell_type": "code",
   "execution_count": 19,
   "id": "judicial-fiber",
   "metadata": {
    "_kg_hide-output": true,
    "execution": {
     "iopub.execute_input": "2021-08-10T02:35:54.045846Z",
     "iopub.status.busy": "2021-08-10T02:35:54.041372Z",
     "iopub.status.idle": "2021-08-10T02:36:25.043767Z",
     "shell.execute_reply": "2021-08-10T02:36:25.042946Z",
     "shell.execute_reply.started": "2021-08-10T02:06:12.582667Z"
    },
    "papermill": {
     "duration": 31.068724,
     "end_time": "2021-08-10T02:36:25.043926",
     "exception": false,
     "start_time": "2021-08-10T02:35:53.975202",
     "status": "completed"
    },
    "tags": []
   },
   "outputs": [
    {
     "name": "stdout",
     "output_type": "stream",
     "text": [
      "[ √ ] Using config file n_cf11\r\n",
      "[ √ ] Using mode:  test\r\n",
      "2021-08-10 02:35:58.201810: I tensorflow/stream_executor/platform/default/dso_loader.cc:49] Successfully opened dynamic library libcudart.so.11.0\r\n",
      "100%|█████████████████████████████████████████████| 1/1 [00:03<00:00,  3.67s/it]\r\n"
     ]
    }
   ],
   "source": [
    "!python main.py -C n_cf11 -M test -W ../input/siim-cls-weights/n_cf11_l1/"
   ]
  },
  {
   "cell_type": "code",
   "execution_count": 20,
   "id": "varying-pennsylvania",
   "metadata": {
    "_kg_hide-output": true,
    "execution": {
     "iopub.execute_input": "2021-08-10T02:36:25.168107Z",
     "iopub.status.busy": "2021-08-10T02:36:25.164388Z",
     "iopub.status.idle": "2021-08-10T02:36:59.554007Z",
     "shell.execute_reply": "2021-08-10T02:36:59.553370Z",
     "shell.execute_reply.started": "2021-08-10T02:06:47.312495Z"
    },
    "papermill": {
     "duration": 34.452565,
     "end_time": "2021-08-10T02:36:59.554177",
     "exception": false,
     "start_time": "2021-08-10T02:36:25.101612",
     "status": "completed"
    },
    "tags": []
   },
   "outputs": [
    {
     "name": "stdout",
     "output_type": "stream",
     "text": [
      "[ √ ] Using config file n_cf11_7\r\n",
      "[ √ ] Using mode:  test\r\n",
      "2021-08-10 02:36:28.090403: I tensorflow/stream_executor/platform/default/dso_loader.cc:49] Successfully opened dynamic library libcudart.so.11.0\r\n",
      "100%|█████████████████████████████████████████████| 1/1 [00:05<00:00,  5.71s/it]\r\n"
     ]
    }
   ],
   "source": [
    "!python main.py -C n_cf11_7 -M test -W ../input/siim-cls-weights/n_cf11_7/"
   ]
  },
  {
   "cell_type": "code",
   "execution_count": 21,
   "id": "white-reduction",
   "metadata": {
    "_kg_hide-output": true,
    "execution": {
     "iopub.execute_input": "2021-08-10T02:36:59.688573Z",
     "iopub.status.busy": "2021-08-10T02:36:59.687667Z",
     "iopub.status.idle": "2021-08-10T02:36:59.690552Z",
     "shell.execute_reply": "2021-08-10T02:36:59.690008Z",
     "shell.execute_reply.started": "2021-08-10T02:07:26.222591Z"
    },
    "papermill": {
     "duration": 0.073277,
     "end_time": "2021-08-10T02:36:59.690665",
     "exception": false,
     "start_time": "2021-08-10T02:36:59.617388",
     "status": "completed"
    },
    "tags": []
   },
   "outputs": [],
   "source": [
    "#!python main.py -C n_cf11_8 -M test -W ../input/siim-cls-weights/n_cf11_8/"
   ]
  },
  {
   "cell_type": "code",
   "execution_count": 22,
   "id": "nutritional-marking",
   "metadata": {
    "_kg_hide-output": true,
    "execution": {
     "iopub.execute_input": "2021-08-10T02:36:59.829056Z",
     "iopub.status.busy": "2021-08-10T02:36:59.824241Z",
     "iopub.status.idle": "2021-08-10T02:37:27.268064Z",
     "shell.execute_reply": "2021-08-10T02:37:27.268573Z",
     "shell.execute_reply.started": "2021-08-10T02:07:26.230735Z"
    },
    "papermill": {
     "duration": 27.514271,
     "end_time": "2021-08-10T02:37:27.268757",
     "exception": false,
     "start_time": "2021-08-10T02:36:59.754486",
     "status": "completed"
    },
    "tags": []
   },
   "outputs": [
    {
     "name": "stdout",
     "output_type": "stream",
     "text": [
      "[ √ ] Using config file n_cf11_9\r\n",
      "[ √ ] Using mode:  test\r\n",
      "2021-08-10 02:37:02.770038: I tensorflow/stream_executor/platform/default/dso_loader.cc:49] Successfully opened dynamic library libcudart.so.11.0\r\n",
      "100%|█████████████████████████████████████████████| 1/1 [00:03<00:00,  3.74s/it]\r\n"
     ]
    }
   ],
   "source": [
    "!python main.py -C n_cf11_9 -M test -W ../input/siim-cls-weights/n_cf11_9/"
   ]
  },
  {
   "cell_type": "code",
   "execution_count": 23,
   "id": "overall-species",
   "metadata": {
    "_kg_hide-output": true,
    "execution": {
     "iopub.execute_input": "2021-08-10T02:37:27.398274Z",
     "iopub.status.busy": "2021-08-10T02:37:27.397510Z",
     "iopub.status.idle": "2021-08-10T02:37:52.768316Z",
     "shell.execute_reply": "2021-08-10T02:37:52.768791Z",
     "shell.execute_reply.started": "2021-08-10T02:07:58.532579Z"
    },
    "papermill": {
     "duration": 25.437579,
     "end_time": "2021-08-10T02:37:52.769005",
     "exception": false,
     "start_time": "2021-08-10T02:37:27.331426",
     "status": "completed"
    },
    "tags": []
   },
   "outputs": [
    {
     "name": "stdout",
     "output_type": "stream",
     "text": [
      "[ √ ] Using config file n_cf11_10\r\n",
      "[ √ ] Using mode:  test\r\n",
      "2021-08-10 02:37:30.152190: I tensorflow/stream_executor/platform/default/dso_loader.cc:49] Successfully opened dynamic library libcudart.so.11.0\r\n",
      "100%|█████████████████████████████████████████████| 2/2 [00:04<00:00,  2.36s/it]\r\n"
     ]
    }
   ],
   "source": [
    "!python main.py -C n_cf11_10 -M test -W ../input/siim-cls-weights/n_cf11_10/"
   ]
  },
  {
   "cell_type": "code",
   "execution_count": 24,
   "id": "right-arrest",
   "metadata": {
    "_kg_hide-output": true,
    "execution": {
     "iopub.execute_input": "2021-08-10T02:37:52.913980Z",
     "iopub.status.busy": "2021-08-10T02:37:52.910282Z",
     "iopub.status.idle": "2021-08-10T02:38:46.929085Z",
     "shell.execute_reply": "2021-08-10T02:38:46.929505Z",
     "shell.execute_reply.started": "2021-08-10T02:08:27.190783Z"
    },
    "papermill": {
     "duration": 54.093013,
     "end_time": "2021-08-10T02:38:46.929684",
     "exception": false,
     "start_time": "2021-08-10T02:37:52.836671",
     "status": "completed"
    },
    "tags": []
   },
   "outputs": [
    {
     "name": "stdout",
     "output_type": "stream",
     "text": [
      "[ √ ] Using config file n_cf11_1\r\n",
      "[ √ ] Using mode:  test\r\n",
      "2021-08-10 02:37:56.107098: I tensorflow/stream_executor/platform/default/dso_loader.cc:49] Successfully opened dynamic library libcudart.so.11.0\r\n",
      "100%|█████████████████████████████████████████████| 1/1 [00:05<00:00,  5.52s/it]\r\n"
     ]
    }
   ],
   "source": [
    "!python main.py -C n_cf11_1 -M test -W ../input/siim-cls-weights/n_cf_11_1/"
   ]
  },
  {
   "cell_type": "code",
   "execution_count": 25,
   "id": "presidential-haiti",
   "metadata": {
    "_kg_hide-output": true,
    "execution": {
     "iopub.execute_input": "2021-08-10T02:38:47.065758Z",
     "iopub.status.busy": "2021-08-10T02:38:47.065046Z",
     "iopub.status.idle": "2021-08-10T02:39:16.923840Z",
     "shell.execute_reply": "2021-08-10T02:39:16.923254Z",
     "shell.execute_reply.started": "2021-08-10T02:09:32.877111Z"
    },
    "papermill": {
     "duration": 29.927326,
     "end_time": "2021-08-10T02:39:16.924024",
     "exception": false,
     "start_time": "2021-08-10T02:38:46.996698",
     "status": "completed"
    },
    "tags": []
   },
   "outputs": [
    {
     "name": "stdout",
     "output_type": "stream",
     "text": [
      "[ √ ] Using config file n_cf11_rot1\r\n",
      "[ √ ] Using mode:  test\r\n",
      "2021-08-10 02:38:49.979916: I tensorflow/stream_executor/platform/default/dso_loader.cc:49] Successfully opened dynamic library libcudart.so.11.0\r\n",
      "100%|█████████████████████████████████████████████| 1/1 [00:04<00:00,  4.46s/it]\r\n"
     ]
    }
   ],
   "source": [
    "!python main.py -C n_cf11_rot1 -M test -W ../input/siim-cls-weights/n_cf11_rot1/"
   ]
  },
  {
   "cell_type": "code",
   "execution_count": 26,
   "id": "minimal-missile",
   "metadata": {
    "_kg_hide-input": true,
    "_kg_hide-output": true,
    "execution": {
     "iopub.execute_input": "2021-08-10T02:39:17.079363Z",
     "iopub.status.busy": "2021-08-10T02:39:17.074433Z",
     "iopub.status.idle": "2021-08-10T02:40:33.888486Z",
     "shell.execute_reply": "2021-08-10T02:40:33.887939Z",
     "shell.execute_reply.started": "2021-08-10T02:10:07.552414Z"
    },
    "papermill": {
     "duration": 76.894546,
     "end_time": "2021-08-10T02:40:33.888620",
     "exception": false,
     "start_time": "2021-08-10T02:39:16.994074",
     "status": "completed"
    },
    "tags": []
   },
   "outputs": [
    {
     "name": "stdout",
     "output_type": "stream",
     "text": [
      "Processing /kaggle/input/landmark-additional-packages/timm-0.4.12-py3-none-any.whl\r\n",
      "Requirement already satisfied: torch>=1.4 in /opt/conda/lib/python3.7/site-packages (from timm==0.4.12) (1.7.0)\r\n",
      "Requirement already satisfied: torchvision in /opt/conda/lib/python3.7/site-packages (from timm==0.4.12) (0.8.1)\r\n",
      "Requirement already satisfied: future in /opt/conda/lib/python3.7/site-packages (from torch>=1.4->timm==0.4.12) (0.18.2)\r\n",
      "Requirement already satisfied: typing_extensions in /opt/conda/lib/python3.7/site-packages (from torch>=1.4->timm==0.4.12) (3.7.4.3)\r\n",
      "Requirement already satisfied: dataclasses in /opt/conda/lib/python3.7/site-packages (from torch>=1.4->timm==0.4.12) (0.6)\r\n",
      "Requirement already satisfied: numpy in /opt/conda/lib/python3.7/site-packages (from torch>=1.4->timm==0.4.12) (1.19.5)\r\n",
      "Requirement already satisfied: pillow>=4.1.1 in /opt/conda/lib/python3.7/site-packages (from torchvision->timm==0.4.12) (7.2.0)\r\n",
      "timm is already installed with the same version as the provided wheel. Use --force-reinstall to force an installation of the wheel.\r\n",
      "Processing /kaggle/input/siim-libs/segmentation_models_pytorch-0.1.3-py3-none-any.whl\r\n",
      "Installing collected packages: segmentation-models-pytorch\r\n",
      "Successfully installed segmentation-models-pytorch-0.1.3\r\n"
     ]
    }
   ],
   "source": [
    "!pip install -q ../input/landmark-additional-packages/EfficientNet-PyTorch/EfficientNet-PyTorch-master \n",
    "!pip install -U ../input/landmark-additional-packages/timm-0.4.12-py3-none-any.whl # to fix \n",
    "!pip install ../input/siim-libs/segmentation_models_pytorch-0.1.3-py3-none-any.whl --no-deps  "
   ]
  },
  {
   "cell_type": "markdown",
   "id": "worth-state",
   "metadata": {
    "papermill": {
     "duration": 0.065829,
     "end_time": "2021-08-10T02:40:34.020633",
     "exception": false,
     "start_time": "2021-08-10T02:40:33.954804",
     "status": "completed"
    },
    "tags": []
   },
   "source": [
    "## Model difinition"
   ]
  },
  {
   "cell_type": "code",
   "execution_count": 27,
   "id": "configured-sculpture",
   "metadata": {
    "execution": {
     "iopub.execute_input": "2021-08-10T02:40:34.157353Z",
     "iopub.status.busy": "2021-08-10T02:40:34.156732Z",
     "iopub.status.idle": "2021-08-10T02:40:34.982962Z",
     "shell.execute_reply": "2021-08-10T02:40:34.982419Z",
     "shell.execute_reply.started": "2021-08-10T02:11:26.975400Z"
    },
    "papermill": {
     "duration": 0.895751,
     "end_time": "2021-08-10T02:40:34.983094",
     "exception": false,
     "start_time": "2021-08-10T02:40:34.087343",
     "status": "completed"
    },
    "tags": []
   },
   "outputs": [],
   "source": [
    "import sys\n",
    "sys.path.append('../usr/lib/siim_cov_model_v0/')\n",
    "from siim_cov_model_v0 import *"
   ]
  },
  {
   "cell_type": "markdown",
   "id": "wired-wrong",
   "metadata": {
    "papermill": {
     "duration": 0.072374,
     "end_time": "2021-08-10T02:40:35.124563",
     "exception": false,
     "start_time": "2021-08-10T02:40:35.052189",
     "status": "completed"
    },
    "tags": []
   },
   "source": [
    "## tools and difinition"
   ]
  },
  {
   "cell_type": "code",
   "execution_count": 28,
   "id": "polar-controversy",
   "metadata": {
    "execution": {
     "iopub.execute_input": "2021-08-10T02:40:35.276463Z",
     "iopub.status.busy": "2021-08-10T02:40:35.275475Z",
     "iopub.status.idle": "2021-08-10T02:40:35.843879Z",
     "shell.execute_reply": "2021-08-10T02:40:35.842795Z",
     "shell.execute_reply.started": "2021-08-10T02:11:27.880105Z"
    },
    "papermill": {
     "duration": 0.647316,
     "end_time": "2021-08-10T02:40:35.844040",
     "exception": false,
     "start_time": "2021-08-10T02:40:35.196724",
     "status": "completed"
    },
    "tags": []
   },
   "outputs": [],
   "source": [
    "import numpy as np\n",
    "import pandas as pd\n",
    "import tqdm\n",
    "import cv2\n",
    "import glob\n",
    "import math\n",
    "import csv\n",
    "import torch\n",
    "import operator\n",
    "import sys\n",
    "import os\n",
    "from path import Path\n",
    "from skimage.io import imread\n",
    "from scipy.ndimage.interpolation import zoom\n",
    "import matplotlib.pyplot as plt\n",
    "from skimage.transform import resize\n",
    "import torchvision\n",
    "from scipy.stats import rankdata\n",
    "\n",
    "from torchvision.transforms import (\n",
    "    ToTensor, Normalize, Compose, Resize, CenterCrop, RandomCrop,\n",
    "    RandomHorizontalFlip, RandomAffine, RandomVerticalFlip, RandomChoice, ColorJitter, RandomRotation)\n",
    "\n",
    "sys.path.append('../input/siim-covid-aggron-eecf6c/covid19-aggron')\n",
    "\n",
    "# from utils import parse_args, prepare_for_result\n",
    "# from torch.utils.data import DataLoader, Dataset, WeightedRandomSampler\n",
    "# from models import get_model\n",
    "from losses import get_loss, get_class_balanced_weighted\n",
    "# from dataloaders import get_dataloader\n",
    "# from utils import load_matched_state\n",
    "from configs import Config\n",
    "# import seaborn as sns\n",
    "# from dataloaders.transform_loader import get_tfms\n",
    "\n",
    "from sklearn.metrics import f1_score, roc_auc_score, average_precision_score"
   ]
  },
  {
   "cell_type": "markdown",
   "id": "substantial-scott",
   "metadata": {
    "papermill": {
     "duration": 0.073465,
     "end_time": "2021-08-10T02:40:35.989386",
     "exception": false,
     "start_time": "2021-08-10T02:40:35.915921",
     "status": "completed"
    },
    "tags": []
   },
   "source": [
    "## Uncompress test data"
   ]
  },
  {
   "cell_type": "code",
   "execution_count": 29,
   "id": "moving-chester",
   "metadata": {
    "execution": {
     "iopub.execute_input": "2021-08-10T02:40:36.136461Z",
     "iopub.status.busy": "2021-08-10T02:40:36.135555Z",
     "iopub.status.idle": "2021-08-10T02:40:36.138294Z",
     "shell.execute_reply": "2021-08-10T02:40:36.137823Z",
     "shell.execute_reply.started": "2021-08-10T02:11:28.594847Z"
    },
    "papermill": {
     "duration": 0.080464,
     "end_time": "2021-08-10T02:40:36.138415",
     "exception": false,
     "start_time": "2021-08-10T02:40:36.057951",
     "status": "completed"
    },
    "tags": []
   },
   "outputs": [],
   "source": [
    "test_path = '/kaggle/tmp/test/image/'"
   ]
  },
  {
   "cell_type": "code",
   "execution_count": 30,
   "id": "emotional-alabama",
   "metadata": {
    "execution": {
     "iopub.execute_input": "2021-08-10T02:40:36.379402Z",
     "iopub.status.busy": "2021-08-10T02:40:36.378355Z",
     "iopub.status.idle": "2021-08-10T02:40:36.408783Z",
     "shell.execute_reply": "2021-08-10T02:40:36.409312Z",
     "shell.execute_reply.started": "2021-08-10T02:11:28.601294Z"
    },
    "papermill": {
     "duration": 0.158909,
     "end_time": "2021-08-10T02:40:36.409494",
     "exception": false,
     "start_time": "2021-08-10T02:40:36.250585",
     "status": "completed"
    },
    "tags": []
   },
   "outputs": [],
   "source": [
    "class COVIDDataset(torch.utils.data.Dataset):\n",
    "    def __init__(self, df, cfg=None, tfms=None, path='.'):\n",
    "        self.df = df\n",
    "        self.cfg = cfg\n",
    "        self.tfms = tfms\n",
    "        self.tensor_tfms = torchvision.transforms.Compose([\n",
    "            torchvision.transforms.ToTensor(),\n",
    "            torchvision.transforms.Normalize(mean=[0.485, 0.456, 0.406], std=[0.229, 0.224, 0.225]),\n",
    "            # torchvision.transforms.Normalize(mean=[0.485, 0.456, 0.406], std=[0.229, 0.224, 0.225]),\n",
    "        ])\n",
    "        self.path = './'\n",
    "        # self.path = Path('/home/sheep/kaggle/siim')\n",
    "        self.studys = self.df['StudyInstanceUID'].unique()\n",
    "        print(len(self.studys))\n",
    "        self.cols = ['Negative for Pneumonia', 'Typical Appearance', 'Indeterminate Appearance', 'Atypical Appearance']\n",
    "        self.cols2index = {x: i for i, x in enumerate(self.cols)}\n",
    "        self.path = path\n",
    "\n",
    "    def __len__(self):\n",
    "        return len(self.studys)\n",
    "\n",
    "    def __getitem__(self, idx):\n",
    "        study_id = self.studys[idx]\n",
    "        sub_df = self.df[self.df.StudyInstanceUID == study_id].copy()\n",
    "        images = []\n",
    "        masks = []\n",
    "        study = [idx for _ in range(sub_df.shape[0])]\n",
    "        image_as_study = []\n",
    "        bbox = []\n",
    "        label_study = 0\n",
    "        has_masks = []\n",
    "        iids = []\n",
    "        for i, row in sub_df.iterrows():\n",
    "            img = cv2.imread(str(self.path + f'/{row.ImageUID}.png'))\n",
    "            sz = self.cfg.transform.size\n",
    "            mask = np.zeros((sz, sz))\n",
    "            has_mask = 1\n",
    "            has_masks.append(has_mask)\n",
    "            label = 0\n",
    "            if self.tfms:\n",
    "                tf = self.tfms(image=img, mask=mask)\n",
    "                img = tf['image']\n",
    "                mask = tf['mask']\n",
    "            if not img.shape[0] == self.cfg.transform.size:\n",
    "                img = cv2.resize(img, (self.cfg.transform.size, self.cfg.transform.size))\n",
    "            # resize to aux\n",
    "            if self.cfg.transform.size == 512:\n",
    "                msksz = 32\n",
    "            elif self.cfg.transform.size == 384:\n",
    "                msksz = 24\n",
    "            elif self.cfg.transform.size == 640:\n",
    "                msksz = 40\n",
    "            elif self.cfg.transform.size == 700:\n",
    "                msksz = 44\n",
    "            elif self.cfg.transform.size == 720:\n",
    "                msksz = 45\n",
    "            elif self.cfg.transform.size == 768:\n",
    "                msksz = 48\n",
    "            else:\n",
    "                msksz = 32\n",
    "            mask = cv2.resize(mask, (msksz, msksz))\n",
    "            masks.append(torch.FloatTensor(mask).view(1, mask.shape[0], mask.shape[1]))\n",
    "            img = self.tensor_tfms(img)\n",
    "            images.append(img)\n",
    "            image_as_study.append(label)\n",
    "            iids.append(row.ImageUID)\n",
    "        images = torch.stack(images)\n",
    "        masks = torch.stack(masks)\n",
    "        return images, study, label_study, image_as_study, masks, iids\n",
    "    \n",
    "def idoit_collect_func(batch):\n",
    "    img, study, lbl, image_as_study, bbox, has_masks = [], [], [], [], [], []\n",
    "    for im, st, lb, ias, bb, has_m in batch:\n",
    "        img.extend(im)\n",
    "        study.extend(st)\n",
    "        lbl.append(lb)\n",
    "        image_as_study.extend(ias)\n",
    "        bbox.extend(bb)\n",
    "        has_masks.extend(has_m)\n",
    "    return torch.stack(img), study, torch.tensor(lbl), torch.tensor(image_as_study), torch.stack(bbox), has_masks"
   ]
  },
  {
   "cell_type": "code",
   "execution_count": 31,
   "id": "apart-helicopter",
   "metadata": {
    "execution": {
     "iopub.execute_input": "2021-08-10T02:40:36.668561Z",
     "iopub.status.busy": "2021-08-10T02:40:36.667087Z",
     "iopub.status.idle": "2021-08-10T02:40:36.669301Z",
     "shell.execute_reply": "2021-08-10T02:40:36.667790Z",
     "shell.execute_reply.started": "2021-08-10T02:11:28.627806Z"
    },
    "papermill": {
     "duration": 0.145153,
     "end_time": "2021-08-10T02:40:36.669471",
     "exception": false,
     "start_time": "2021-08-10T02:40:36.524318",
     "status": "completed"
    },
    "tags": []
   },
   "outputs": [],
   "source": [
    "def load_model(cfg):\n",
    "    if cfg.model.name == 'v2m_aux':\n",
    "        #     def __init__(self, name, dropout=0, pool='AdaptiveAvgPool2d'):\n",
    "        drop = cfg.model.param.get('dropout', 0)\n",
    "        pool = cfg.model.param.get('last_pool', 'AdaptiveAvgPool2d')\n",
    "        return AUXNet(name='tf_efficientnetv2_m', dropout=drop, pool=pool)\n",
    "    elif cfg.model.name == 'v2m_aux_v2':\n",
    "        drop = cfg.model.param.get('dropout', 0)\n",
    "        pool = cfg.model.param.get('last_pool', 'AdaptiveAvgPool2d')\n",
    "        return AUXNetV2(name='tf_efficientnetv2_m', dropout=drop, pool=pool)\n",
    "    elif cfg.model.name == 'b5_aux':\n",
    "        drop = cfg.model.param.get('dropout', 0)\n",
    "        pool = cfg.model.param.get('last_pool', 'AdaptiveAvgPool2d')\n",
    "        return AUXNetb5(name='tf_efficientnetv2_m', dropout=drop)\n",
    "    elif cfg.model.name == 'v2l_aux':\n",
    "        drop = cfg.model.param.get('dropout', 0)\n",
    "        pool = cfg.model.param.get('last_pool', 'AdaptiveAvgPool2d')\n",
    "        return AUXNetL(name='tf_efficientnetv2_l', dropout=drop)"
   ]
  },
  {
   "cell_type": "code",
   "execution_count": 32,
   "id": "devoted-camera",
   "metadata": {
    "execution": {
     "iopub.execute_input": "2021-08-10T02:40:36.919896Z",
     "iopub.status.busy": "2021-08-10T02:40:36.918868Z",
     "iopub.status.idle": "2021-08-10T02:40:36.930025Z",
     "shell.execute_reply": "2021-08-10T02:40:36.930876Z",
     "shell.execute_reply.started": "2021-08-10T02:11:28.642115Z"
    },
    "papermill": {
     "duration": 0.140222,
     "end_time": "2021-08-10T02:40:36.931099",
     "exception": false,
     "start_time": "2021-08-10T02:40:36.790877",
     "status": "completed"
    },
    "tags": []
   },
   "outputs": [],
   "source": [
    "def predict_run(RUN, test, is_none = False):\n",
    "    df = pd.read_csv(f'{RUN}/train.log', sep='\\t')\n",
    "    fold2epochs = {}\n",
    "    for i in range(0, 5):\n",
    "        eph = df[df.Fold == i].sort_values('F1@0.3', ascending=False).iloc[0].Epochs\n",
    "        fold2epochs[i] = int(eph)\n",
    "\n",
    "    print(fold2epochs.values())\n",
    "\n",
    "    predicted = []\n",
    "    # load the model\n",
    "    models = []\n",
    "    for f in range(5):\n",
    "        cfg = Config.load_json(f'{RUN}/config.json')\n",
    "        cfg.experiment.run_fold = f\n",
    "        model = load_model(cfg).cuda()\n",
    "        load_matched_state(model, torch.load(\n",
    "            glob.glob(f'{RUN}/checkpoints/f{f}*-{fold2epochs[f]}*')[0]))\n",
    "        model.eval()\n",
    "        models.append(model)\n",
    "        \n",
    "    # inference\n",
    "    test_ds = COVIDDataset(test, cfg=cfg, path=test_path)\n",
    "    test_dl = torch.utils.data.DataLoader(test_ds, num_workers=2, batch_size=32, collate_fn=idoit_collect_func)\n",
    "    with torch.no_grad():\n",
    "        results = []\n",
    "        predicted, image_ids = [], []\n",
    "        for i, (img, study_index, lbl_study, label_image, mask_t, iids) in tqdm.tqdm(enumerate(test_dl)):\n",
    "            img = img.cuda()\n",
    "            sz = img.size()[0]\n",
    "            img = torch.stack([img,img.flip(-1)],0) # hflip\n",
    "            img = img.view(-1, 3, img.shape[-1], img.shape[-1])\n",
    "            preds = []\n",
    "            for m in models:\n",
    "                with torch.cuda.amp.autocast():\n",
    "                    logits, mask = m(img)\n",
    "                logits = logits.float()\n",
    "                if cfg.loss.name == 'bce':\n",
    "                    logits = torch.sigmoid(logits)\n",
    "                else:\n",
    "                    logits = torch.softmax(logits, 1)\n",
    "                cls = (logits[:sz] + logits[sz:]) / 2\n",
    "                preds.append(cls)\n",
    "            predicted.append(torch.stack(preds).mean(0).cpu())\n",
    "            image_ids.extend(iids)\n",
    "    if is_none:\n",
    "        return pd.DataFrame(torch.cat(predicted).numpy(), index=image_ids,\n",
    "             columns=['Negative for Pneumonia', 'Typical Appearance'])\n",
    "    else:\n",
    "        return pd.DataFrame(torch.cat(predicted).numpy(), index=image_ids,\n",
    "             columns=['Negative for Pneumonia', 'Typical Appearance', 'Indeterminate Appearance', 'Atypical Appearance'])"
   ]
  },
  {
   "cell_type": "markdown",
   "id": "lesbian-emphasis",
   "metadata": {
    "papermill": {
     "duration": 0.118633,
     "end_time": "2021-08-10T02:40:37.166614",
     "exception": false,
     "start_time": "2021-08-10T02:40:37.047981",
     "status": "completed"
    },
    "tags": []
   },
   "source": [
    "## Test assets"
   ]
  },
  {
   "cell_type": "code",
   "execution_count": 33,
   "id": "normal-gather",
   "metadata": {
    "execution": {
     "iopub.execute_input": "2021-08-10T02:40:37.420582Z",
     "iopub.status.busy": "2021-08-10T02:40:37.418911Z",
     "iopub.status.idle": "2021-08-10T02:40:37.421306Z",
     "shell.execute_reply": "2021-08-10T02:40:37.421747Z",
     "shell.execute_reply.started": "2021-08-10T02:11:28.664328Z"
    },
    "papermill": {
     "duration": 0.137947,
     "end_time": "2021-08-10T02:40:37.421909",
     "exception": false,
     "start_time": "2021-08-10T02:40:37.283962",
     "status": "completed"
    },
    "tags": []
   },
   "outputs": [],
   "source": [
    "test = pd.read_csv('test_meta.csv')[[\"image_id\", \"study_id\"]]\n",
    "test = test.rename(columns={\"image_id\": \"ImageUID\", \"study_id\": \"StudyInstanceUID\"})\n",
    "for e in ['Negative for Pneumonia', 'Typical Appearance', 'Indeterminate Appearance', 'Atypical Appearance']:\n",
    "    test[e] = 0"
   ]
  },
  {
   "cell_type": "code",
   "execution_count": 34,
   "id": "cardiovascular-relay",
   "metadata": {
    "execution": {
     "iopub.execute_input": "2021-08-10T02:40:37.574069Z",
     "iopub.status.busy": "2021-08-10T02:40:37.573302Z",
     "iopub.status.idle": "2021-08-10T02:40:37.582574Z",
     "shell.execute_reply": "2021-08-10T02:40:37.582061Z",
     "shell.execute_reply.started": "2021-08-10T02:11:28.688440Z"
    },
    "papermill": {
     "duration": 0.089392,
     "end_time": "2021-08-10T02:40:37.582731",
     "exception": false,
     "start_time": "2021-08-10T02:40:37.493339",
     "status": "completed"
    },
    "tags": []
   },
   "outputs": [
    {
     "data": {
      "text/html": [
       "<div>\n",
       "<style scoped>\n",
       "    .dataframe tbody tr th:only-of-type {\n",
       "        vertical-align: middle;\n",
       "    }\n",
       "\n",
       "    .dataframe tbody tr th {\n",
       "        vertical-align: top;\n",
       "    }\n",
       "\n",
       "    .dataframe thead th {\n",
       "        text-align: right;\n",
       "    }\n",
       "</style>\n",
       "<table border=\"1\" class=\"dataframe\">\n",
       "  <thead>\n",
       "    <tr style=\"text-align: right;\">\n",
       "      <th></th>\n",
       "      <th>ImageUID</th>\n",
       "      <th>StudyInstanceUID</th>\n",
       "      <th>Negative for Pneumonia</th>\n",
       "      <th>Typical Appearance</th>\n",
       "      <th>Indeterminate Appearance</th>\n",
       "      <th>Atypical Appearance</th>\n",
       "    </tr>\n",
       "  </thead>\n",
       "  <tbody>\n",
       "    <tr>\n",
       "      <th>0</th>\n",
       "      <td>a29c5a68b07b</td>\n",
       "      <td>2fb11712bc93</td>\n",
       "      <td>0</td>\n",
       "      <td>0</td>\n",
       "      <td>0</td>\n",
       "      <td>0</td>\n",
       "    </tr>\n",
       "    <tr>\n",
       "      <th>1</th>\n",
       "      <td>9850b5470fd6</td>\n",
       "      <td>19c66935e737</td>\n",
       "      <td>0</td>\n",
       "      <td>0</td>\n",
       "      <td>0</td>\n",
       "      <td>0</td>\n",
       "    </tr>\n",
       "    <tr>\n",
       "      <th>2</th>\n",
       "      <td>8d6dea06a032</td>\n",
       "      <td>2fc50bf199cd</td>\n",
       "      <td>0</td>\n",
       "      <td>0</td>\n",
       "      <td>0</td>\n",
       "      <td>0</td>\n",
       "    </tr>\n",
       "    <tr>\n",
       "      <th>3</th>\n",
       "      <td>dfc5c09a50bc</td>\n",
       "      <td>97c5d6eb413d</td>\n",
       "      <td>0</td>\n",
       "      <td>0</td>\n",
       "      <td>0</td>\n",
       "      <td>0</td>\n",
       "    </tr>\n",
       "    <tr>\n",
       "      <th>4</th>\n",
       "      <td>7230234e120a</td>\n",
       "      <td>593c3f815635</td>\n",
       "      <td>0</td>\n",
       "      <td>0</td>\n",
       "      <td>0</td>\n",
       "      <td>0</td>\n",
       "    </tr>\n",
       "  </tbody>\n",
       "</table>\n",
       "</div>"
      ],
      "text/plain": [
       "       ImageUID StudyInstanceUID  Negative for Pneumonia  Typical Appearance  \\\n",
       "0  a29c5a68b07b     2fb11712bc93                       0                   0   \n",
       "1  9850b5470fd6     19c66935e737                       0                   0   \n",
       "2  8d6dea06a032     2fc50bf199cd                       0                   0   \n",
       "3  dfc5c09a50bc     97c5d6eb413d                       0                   0   \n",
       "4  7230234e120a     593c3f815635                       0                   0   \n",
       "\n",
       "   Indeterminate Appearance  Atypical Appearance  \n",
       "0                         0                    0  \n",
       "1                         0                    0  \n",
       "2                         0                    0  \n",
       "3                         0                    0  \n",
       "4                         0                    0  "
      ]
     },
     "execution_count": 34,
     "metadata": {},
     "output_type": "execute_result"
    }
   ],
   "source": [
    "test.head()"
   ]
  },
  {
   "cell_type": "markdown",
   "id": "respected-sandwich",
   "metadata": {
    "papermill": {
     "duration": 0.078961,
     "end_time": "2021-08-10T02:40:37.734943",
     "exception": false,
     "start_time": "2021-08-10T02:40:37.655982",
     "status": "completed"
    },
    "tags": []
   },
   "source": [
    "## BCE loss with pl"
   ]
  },
  {
   "cell_type": "code",
   "execution_count": 35,
   "id": "animated-clarity",
   "metadata": {
    "_kg_hide-output": true,
    "execution": {
     "iopub.execute_input": "2021-08-10T02:40:37.899884Z",
     "iopub.status.busy": "2021-08-10T02:40:37.899281Z",
     "iopub.status.idle": "2021-08-10T02:41:43.702416Z",
     "shell.execute_reply": "2021-08-10T02:41:43.702944Z",
     "shell.execute_reply.started": "2021-08-10T02:11:28.712556Z"
    },
    "papermill": {
     "duration": 65.896183,
     "end_time": "2021-08-10T02:41:43.703161",
     "exception": false,
     "start_time": "2021-08-10T02:40:37.806978",
     "status": "completed"
    },
    "tags": []
   },
   "outputs": [
    {
     "name": "stdout",
     "output_type": "stream",
     "text": [
      "dict_values([10, 13, 19, 16, 14])\n",
      "[ AUX model ] dropout: 0.5\n",
      "[ √ ] All layers are loaded\n",
      "[ AUX model ] dropout: 0.5\n",
      "[ √ ] All layers are loaded\n",
      "[ AUX model ] dropout: 0.5\n",
      "[ √ ] All layers are loaded\n",
      "[ AUX model ] dropout: 0.5\n",
      "[ √ ] All layers are loaded\n",
      "[ AUX model ] dropout: 0.5\n",
      "[ √ ] All layers are loaded\n",
      "11\n"
     ]
    },
    {
     "name": "stderr",
     "output_type": "stream",
     "text": [
      "1it [00:03,  3.96s/it]\n"
     ]
    }
   ],
   "source": [
    "r9 = predict_run(\n",
    "    '../input/siim-covid-aux-bce-agg-exp-rot-30-20-v2l-pl/aux_bce_agg_exp_rot_30_20_v2l_pl.upload', test)"
   ]
  },
  {
   "cell_type": "code",
   "execution_count": 36,
   "id": "registered-niger",
   "metadata": {
    "_kg_hide-output": true,
    "execution": {
     "iopub.execute_input": "2021-08-10T02:41:43.876969Z",
     "iopub.status.busy": "2021-08-10T02:41:43.876346Z",
     "iopub.status.idle": "2021-08-10T02:42:02.252903Z",
     "shell.execute_reply": "2021-08-10T02:42:02.252453Z",
     "shell.execute_reply.started": "2021-08-10T02:12:22.395789Z"
    },
    "papermill": {
     "duration": 18.472092,
     "end_time": "2021-08-10T02:42:02.253033",
     "exception": false,
     "start_time": "2021-08-10T02:41:43.780941",
     "status": "completed"
    },
    "tags": []
   },
   "outputs": [
    {
     "name": "stdout",
     "output_type": "stream",
     "text": [
      "dict_values([8, 8, 3, 14, 9])\n",
      "[ AUX model ] dropout: 0.5\n",
      "[ √ ] All layers are loaded\n",
      "[ AUX model ] dropout: 0.5\n",
      "[ √ ] All layers are loaded\n",
      "[ AUX model ] dropout: 0.5\n",
      "[ √ ] All layers are loaded\n",
      "[ AUX model ] dropout: 0.5\n",
      "[ √ ] All layers are loaded\n",
      "[ AUX model ] dropout: 0.5\n",
      "[ √ ] All layers are loaded\n",
      "11\n"
     ]
    },
    {
     "name": "stderr",
     "output_type": "stream",
     "text": [
      "1it [00:02,  2.22s/it]\n"
     ]
    }
   ],
   "source": [
    "r8 = predict_run(\n",
    "    '../input/aux-bce-agg-exp-rot-30-20-b5-pl/aux_bce_agg_exp_rot_30_20_b5_pl.upload', test)"
   ]
  },
  {
   "cell_type": "code",
   "execution_count": 37,
   "id": "blond-casting",
   "metadata": {
    "_kg_hide-output": true,
    "execution": {
     "iopub.execute_input": "2021-08-10T02:42:02.433766Z",
     "iopub.status.busy": "2021-08-10T02:42:02.433173Z",
     "iopub.status.idle": "2021-08-10T02:42:33.830505Z",
     "shell.execute_reply": "2021-08-10T02:42:33.831149Z",
     "shell.execute_reply.started": "2021-08-10T02:12:38.486829Z"
    },
    "papermill": {
     "duration": 31.501277,
     "end_time": "2021-08-10T02:42:33.831308",
     "exception": false,
     "start_time": "2021-08-10T02:42:02.330031",
     "status": "completed"
    },
    "tags": []
   },
   "outputs": [
    {
     "name": "stdout",
     "output_type": "stream",
     "text": [
      "dict_values([10, 10, 12, 5, 15])\n",
      "[ AUX model ] dropout: 0.5, pool: AdaptiveAvgPool2d\n",
      "[ √ ] All layers are loaded\n",
      "[ AUX model ] dropout: 0.5, pool: AdaptiveAvgPool2d\n",
      "[ √ ] All layers are loaded\n",
      "[ AUX model ] dropout: 0.5, pool: AdaptiveAvgPool2d\n",
      "[ √ ] All layers are loaded\n",
      "[ AUX model ] dropout: 0.5, pool: AdaptiveAvgPool2d\n",
      "[ √ ] All layers are loaded\n",
      "[ AUX model ] dropout: 0.5, pool: AdaptiveAvgPool2d\n",
      "[ √ ] All layers are loaded\n",
      "11\n"
     ]
    },
    {
     "name": "stderr",
     "output_type": "stream",
     "text": [
      "1it [00:02,  2.05s/it]\n"
     ]
    }
   ],
   "source": [
    "r = predict_run(\n",
    "    '../input/siim-covid-aux-aug-v2m-lm-aggron-40-clean-cut1/aux_aug_v2m_lm_aggron_40_clean_cut1.yaml_upload', test)"
   ]
  },
  {
   "cell_type": "code",
   "execution_count": 38,
   "id": "natural-finland",
   "metadata": {
    "_kg_hide-output": true,
    "execution": {
     "iopub.execute_input": "2021-08-10T02:42:34.009259Z",
     "iopub.status.busy": "2021-08-10T02:42:34.008670Z",
     "iopub.status.idle": "2021-08-10T02:43:06.416412Z",
     "shell.execute_reply": "2021-08-10T02:43:06.416850Z",
     "shell.execute_reply.started": "2021-08-10T02:13:05.025564Z"
    },
    "papermill": {
     "duration": 32.506737,
     "end_time": "2021-08-10T02:43:06.417025",
     "exception": false,
     "start_time": "2021-08-10T02:42:33.910288",
     "status": "completed"
    },
    "tags": []
   },
   "outputs": [
    {
     "name": "stdout",
     "output_type": "stream",
     "text": [
      "dict_values([5, 8, 11, 11, 10])\n",
      "[ AUX model ] dropout: 0.5, pool: AdaptiveAvgPool2d\n",
      "[ √ ] All layers are loaded\n",
      "[ AUX model ] dropout: 0.5, pool: AdaptiveAvgPool2d\n",
      "[ √ ] All layers are loaded\n",
      "[ AUX model ] dropout: 0.5, pool: AdaptiveAvgPool2d\n",
      "[ √ ] All layers are loaded\n",
      "[ AUX model ] dropout: 0.5, pool: AdaptiveAvgPool2d\n",
      "[ √ ] All layers are loaded\n",
      "[ AUX model ] dropout: 0.5, pool: AdaptiveAvgPool2d\n",
      "[ √ ] All layers are loaded\n",
      "11\n"
     ]
    },
    {
     "name": "stderr",
     "output_type": "stream",
     "text": [
      "1it [00:01,  1.96s/it]\n"
     ]
    }
   ],
   "source": [
    "r3 = predict_run(\n",
    "    '../input/siim-covid-aux-bce-agg-exp-rot-30-20-pl/aux_bce_agg_exp_rot_30_20_pl.upload', test)"
   ]
  },
  {
   "cell_type": "markdown",
   "id": "rolled-patient",
   "metadata": {
    "papermill": {
     "duration": 0.08616,
     "end_time": "2021-08-10T02:43:06.592839",
     "exception": false,
     "start_time": "2021-08-10T02:43:06.506679",
     "status": "completed"
    },
    "tags": []
   },
   "source": [
    "## CE model"
   ]
  },
  {
   "cell_type": "code",
   "execution_count": 39,
   "id": "seventh-assumption",
   "metadata": {
    "_kg_hide-output": true,
    "execution": {
     "iopub.execute_input": "2021-08-10T02:43:06.792528Z",
     "iopub.status.busy": "2021-08-10T02:43:06.791961Z",
     "iopub.status.idle": "2021-08-10T02:43:37.724646Z",
     "shell.execute_reply": "2021-08-10T02:43:37.723297Z",
     "shell.execute_reply.started": "2021-08-10T02:13:30.556953Z"
    },
    "papermill": {
     "duration": 31.044118,
     "end_time": "2021-08-10T02:43:37.724787",
     "exception": false,
     "start_time": "2021-08-10T02:43:06.680669",
     "status": "completed"
    },
    "tags": []
   },
   "outputs": [
    {
     "name": "stdout",
     "output_type": "stream",
     "text": [
      "dict_values([9, 6, 5, 12, 5])\n",
      "[ AUX model ] dropout: 0.5, pool: AdaptiveAvgPool2d\n",
      "[ √ ] All layers are loaded\n",
      "[ AUX model ] dropout: 0.5, pool: AdaptiveAvgPool2d\n",
      "[ √ ] All layers are loaded\n",
      "[ AUX model ] dropout: 0.5, pool: AdaptiveAvgPool2d\n",
      "[ √ ] All layers are loaded\n",
      "[ AUX model ] dropout: 0.5, pool: AdaptiveAvgPool2d\n",
      "[ √ ] All layers are loaded\n",
      "[ AUX model ] dropout: 0.5, pool: AdaptiveAvgPool2d\n",
      "[ √ ] All layers are loaded\n",
      "11\n"
     ]
    },
    {
     "name": "stderr",
     "output_type": "stream",
     "text": [
      "1it [00:01,  1.98s/it]\n"
     ]
    }
   ],
   "source": [
    "r2 = predict_run(\n",
    "    '../input/siim-covid-aux-bce-v2m-lm-aggron-40-clean-cut1-pl/aux_bce_v2m_lm_aggron_40_clean_cut1_bce_pl.upload', test)"
   ]
  },
  {
   "cell_type": "code",
   "execution_count": 40,
   "id": "governmental-channel",
   "metadata": {
    "_kg_hide-output": true,
    "execution": {
     "iopub.execute_input": "2021-08-10T02:43:37.912136Z",
     "iopub.status.busy": "2021-08-10T02:43:37.911543Z",
     "iopub.status.idle": "2021-08-10T02:44:07.475094Z",
     "shell.execute_reply": "2021-08-10T02:44:07.474257Z",
     "shell.execute_reply.started": "2021-08-10T02:13:56.990851Z"
    },
    "papermill": {
     "duration": 29.665509,
     "end_time": "2021-08-10T02:44:07.475259",
     "exception": false,
     "start_time": "2021-08-10T02:43:37.809750",
     "status": "completed"
    },
    "tags": []
   },
   "outputs": [
    {
     "name": "stdout",
     "output_type": "stream",
     "text": [
      "dict_values([18, 13, 14, 17, 19])\n",
      "[ AUX model ] dropout: 0.5, pool: AdaptiveAvgPool2d\n",
      "[ √ ] All layers are loaded\n",
      "[ AUX model ] dropout: 0.5, pool: AdaptiveAvgPool2d\n",
      "[ √ ] All layers are loaded\n",
      "[ AUX model ] dropout: 0.5, pool: AdaptiveAvgPool2d\n",
      "[ √ ] All layers are loaded\n",
      "[ AUX model ] dropout: 0.5, pool: AdaptiveAvgPool2d\n",
      "[ √ ] All layers are loaded\n",
      "[ AUX model ] dropout: 0.5, pool: AdaptiveAvgPool2d\n",
      "[ √ ] All layers are loaded\n",
      "11\n"
     ]
    },
    {
     "name": "stderr",
     "output_type": "stream",
     "text": [
      "1it [00:01,  1.99s/it]\n"
     ]
    }
   ],
   "source": [
    "r4 = predict_run(\n",
    "    '../input/siim-cov-dddddd-dbg-1-aux-2/dddddd_dbg_1_aux_2_upload', test)"
   ]
  },
  {
   "cell_type": "code",
   "execution_count": 41,
   "id": "unable-coalition",
   "metadata": {
    "_kg_hide-output": true,
    "execution": {
     "iopub.execute_input": "2021-08-10T02:44:07.686011Z",
     "iopub.status.busy": "2021-08-10T02:44:07.685411Z",
     "iopub.status.idle": "2021-08-10T02:44:38.107629Z",
     "shell.execute_reply": "2021-08-10T02:44:38.106312Z",
     "shell.execute_reply.started": "2021-08-10T02:14:23.390320Z"
    },
    "papermill": {
     "duration": 30.536997,
     "end_time": "2021-08-10T02:44:38.107766",
     "exception": false,
     "start_time": "2021-08-10T02:44:07.570769",
     "status": "completed"
    },
    "tags": []
   },
   "outputs": [
    {
     "name": "stdout",
     "output_type": "stream",
     "text": [
      "dict_values([14, 13, 14, 8, 17])\n",
      "[ AUX model ] dropout: 0.5, pool: AdaptiveAvgPool2d\n",
      "[ √ ] All layers are loaded\n",
      "[ AUX model ] dropout: 0.5, pool: AdaptiveAvgPool2d\n",
      "[ √ ] All layers are loaded\n",
      "[ AUX model ] dropout: 0.5, pool: AdaptiveAvgPool2d\n",
      "[ √ ] All layers are loaded\n",
      "[ AUX model ] dropout: 0.5, pool: AdaptiveAvgPool2d\n",
      "[ √ ] All layers are loaded\n",
      "[ AUX model ] dropout: 0.5, pool: AdaptiveAvgPool2d\n",
      "[ √ ] All layers are loaded\n",
      "11\n"
     ]
    },
    {
     "name": "stderr",
     "output_type": "stream",
     "text": [
      "1it [00:01,  1.97s/it]\n"
     ]
    }
   ],
   "source": [
    "r5 = predict_run(\n",
    "    '../input/siim-cov-clean-oof-clean-agree-upload/clean_oof_clean_agree_upload', test)"
   ]
  },
  {
   "cell_type": "code",
   "execution_count": 42,
   "id": "careful-cheat",
   "metadata": {
    "_kg_hide-output": true,
    "execution": {
     "iopub.execute_input": "2021-08-10T02:44:38.312518Z",
     "iopub.status.busy": "2021-08-10T02:44:38.311991Z",
     "iopub.status.idle": "2021-08-10T02:45:08.085450Z",
     "shell.execute_reply": "2021-08-10T02:45:08.085896Z",
     "shell.execute_reply.started": "2021-08-10T02:14:48.763707Z"
    },
    "papermill": {
     "duration": 29.885929,
     "end_time": "2021-08-10T02:45:08.086096",
     "exception": false,
     "start_time": "2021-08-10T02:44:38.200167",
     "status": "completed"
    },
    "tags": []
   },
   "outputs": [
    {
     "name": "stdout",
     "output_type": "stream",
     "text": [
      "dict_values([11, 12, 17, 13, 14])\n",
      "[ AUX model ] dropout: 0.5, pool: AdaptiveAvgPool2d\n",
      "[ √ ] All layers are loaded\n",
      "[ AUX model ] dropout: 0.5, pool: AdaptiveAvgPool2d\n",
      "[ √ ] All layers are loaded\n",
      "[ AUX model ] dropout: 0.5, pool: AdaptiveAvgPool2d\n",
      "[ √ ] All layers are loaded\n",
      "[ AUX model ] dropout: 0.5, pool: AdaptiveAvgPool2d\n",
      "[ √ ] All layers are loaded\n",
      "[ AUX model ] dropout: 0.5, pool: AdaptiveAvgPool2d\n",
      "[ √ ] All layers are loaded\n",
      "11\n"
     ]
    },
    {
     "name": "stderr",
     "output_type": "stream",
     "text": [
      "1it [00:01,  1.95s/it]\n"
     ]
    }
   ],
   "source": [
    "r6 = predict_run(\n",
    "    '../input/siim-cov-aux-aug-agg-exp-rot-30/aux_aug_agg_exp_rot_30.yaml_upload', test)"
   ]
  },
  {
   "cell_type": "code",
   "execution_count": 43,
   "id": "specified-correlation",
   "metadata": {
    "_kg_hide-output": true,
    "execution": {
     "iopub.execute_input": "2021-08-10T02:45:08.312761Z",
     "iopub.status.busy": "2021-08-10T02:45:08.312211Z",
     "iopub.status.idle": "2021-08-10T02:45:38.825290Z",
     "shell.execute_reply": "2021-08-10T02:45:38.823982Z",
     "shell.execute_reply.started": "2021-08-10T02:15:15.119321Z"
    },
    "papermill": {
     "duration": 30.634418,
     "end_time": "2021-08-10T02:45:38.825418",
     "exception": false,
     "start_time": "2021-08-10T02:45:08.191000",
     "status": "completed"
    },
    "tags": []
   },
   "outputs": [
    {
     "name": "stdout",
     "output_type": "stream",
     "text": [
      "dict_values([13, 15, 12, 11, 9])\n",
      "[ AUX model ] dropout: 0.5, pool: AdaptiveAvgPool2d\n",
      "[ √ ] All layers are loaded\n",
      "[ AUX model ] dropout: 0.5, pool: AdaptiveAvgPool2d\n",
      "[ √ ] All layers are loaded\n",
      "[ AUX model ] dropout: 0.5, pool: AdaptiveAvgPool2d\n",
      "[ √ ] All layers are loaded\n",
      "[ AUX model ] dropout: 0.5, pool: AdaptiveAvgPool2d\n",
      "[ √ ] All layers are loaded\n",
      "[ AUX model ] dropout: 0.5, pool: AdaptiveAvgPool2d\n",
      "[ √ ] All layers are loaded\n",
      "11\n"
     ]
    },
    {
     "name": "stderr",
     "output_type": "stream",
     "text": [
      "1it [00:01,  2.00s/it]\n"
     ]
    }
   ],
   "source": [
    "r7 = predict_run(\n",
    "    '../input/siim-cov-model-modelv2upload/model_modelV2.upload', test)"
   ]
  },
  {
   "cell_type": "code",
   "execution_count": 44,
   "id": "union-collection",
   "metadata": {
    "execution": {
     "iopub.execute_input": "2021-08-10T02:45:39.037432Z",
     "iopub.status.busy": "2021-08-10T02:45:39.034300Z",
     "iopub.status.idle": "2021-08-10T02:45:39.042491Z",
     "shell.execute_reply": "2021-08-10T02:45:39.041986Z",
     "shell.execute_reply.started": "2021-08-10T02:15:40.982295Z"
    },
    "papermill": {
     "duration": 0.116591,
     "end_time": "2021-08-10T02:45:39.042633",
     "exception": false,
     "start_time": "2021-08-10T02:45:38.926042",
     "status": "completed"
    },
    "tags": []
   },
   "outputs": [],
   "source": [
    "image_result = (r + r2 + r3 + 0.5 * r4 + r5 + r6 + 0.75 * r7 + r8 + r9) / 8.25"
   ]
  },
  {
   "cell_type": "code",
   "execution_count": 45,
   "id": "moved-credit",
   "metadata": {
    "execution": {
     "iopub.execute_input": "2021-08-10T02:45:39.250818Z",
     "iopub.status.busy": "2021-08-10T02:45:39.250278Z",
     "iopub.status.idle": "2021-08-10T02:45:39.253940Z",
     "shell.execute_reply": "2021-08-10T02:45:39.254327Z",
     "shell.execute_reply.started": "2021-08-10T02:15:40.995514Z"
    },
    "papermill": {
     "duration": 0.109114,
     "end_time": "2021-08-10T02:45:39.254470",
     "exception": false,
     "start_time": "2021-08-10T02:45:39.145356",
     "status": "completed"
    },
    "tags": []
   },
   "outputs": [],
   "source": [
    "image_result = image_result.reset_index()"
   ]
  },
  {
   "cell_type": "code",
   "execution_count": 46,
   "id": "patent-significance",
   "metadata": {
    "execution": {
     "iopub.execute_input": "2021-08-10T02:45:39.460326Z",
     "iopub.status.busy": "2021-08-10T02:45:39.459568Z",
     "iopub.status.idle": "2021-08-10T02:45:39.515911Z",
     "shell.execute_reply": "2021-08-10T02:45:39.515378Z",
     "shell.execute_reply.started": "2021-08-10T02:15:41.014907Z"
    },
    "papermill": {
     "duration": 0.161519,
     "end_time": "2021-08-10T02:45:39.516103",
     "exception": false,
     "start_time": "2021-08-10T02:45:39.354584",
     "status": "completed"
    },
    "tags": []
   },
   "outputs": [],
   "source": [
    "image_result.to_csv('sheep_df.csv')"
   ]
  },
  {
   "cell_type": "markdown",
   "id": "grave-heath",
   "metadata": {
    "papermill": {
     "duration": 0.099396,
     "end_time": "2021-08-10T02:45:39.717583",
     "exception": false,
     "start_time": "2021-08-10T02:45:39.618187",
     "status": "completed"
    },
    "tags": []
   },
   "source": [
    "**2 class**"
   ]
  },
  {
   "cell_type": "code",
   "execution_count": 47,
   "id": "loving-realtor",
   "metadata": {
    "execution": {
     "iopub.execute_input": "2021-08-10T02:45:39.933325Z",
     "iopub.status.busy": "2021-08-10T02:45:39.923113Z",
     "iopub.status.idle": "2021-08-10T02:45:39.941595Z",
     "shell.execute_reply": "2021-08-10T02:45:39.941145Z",
     "shell.execute_reply.started": "2021-08-10T02:15:41.049571Z"
    },
    "papermill": {
     "duration": 0.124145,
     "end_time": "2021-08-10T02:45:39.941710",
     "exception": false,
     "start_time": "2021-08-10T02:45:39.817565",
     "status": "completed"
    },
    "tags": []
   },
   "outputs": [],
   "source": [
    "class AUXNet(nn.Module):\n",
    "    def __init__(self, name, dropout=0, pool='AdaptiveAvgPool2d'):\n",
    "        super(AUXNet, self).__init__()\n",
    "\n",
    "        print('[ AUX model ] dropout: {}, pool: {}'.format(dropout, pool))\n",
    "        e = timm.models.__dict__[name](pretrained=False, drop_rate=0.3, drop_path_rate=0.2)\n",
    "        self.model = e\n",
    "        self.b0 = nn.Sequential(\n",
    "            e.conv_stem,\n",
    "            e.bn1,\n",
    "            e.act1,\n",
    "        )\n",
    "        self.b1 = e.blocks[0]\n",
    "        self.b2 = e.blocks[1]\n",
    "        self.b3 = e.blocks[2]\n",
    "        self.b4 = e.blocks[3]\n",
    "        self.b5 = e.blocks[4]\n",
    "        self.b6 = e.blocks[5]\n",
    "        self.b7 = e.blocks[6]\n",
    "        self.b8 = nn.Sequential(\n",
    "            e.conv_head, #384, 1536\n",
    "            e.bn2,\n",
    "            e.act2,\n",
    "        )\n",
    "\n",
    "        self.logit = nn.Linear(1280,2)\n",
    "        self.mask = nn.Sequential(\n",
    "            nn.Conv2d(176, 128, kernel_size=3, padding=1),\n",
    "            nn.BatchNorm2d(128),\n",
    "            nn.ReLU(inplace=True),\n",
    "            nn.Conv2d(128, 128, kernel_size=3, padding=1),\n",
    "            nn.BatchNorm2d(128),\n",
    "            nn.ReLU(inplace=True),\n",
    "            nn.Conv2d(128, 1, kernel_size=1, padding=0),\n",
    "        )\n",
    "\n",
    "        self.dropout = nn.Dropout(p=dropout)\n",
    "\n",
    "        if pool == 'AdaptiveAvgPool2d':\n",
    "            self.pooling = nn.AdaptiveAvgPool2d(1)\n",
    "        elif pool == 'gem':\n",
    "            self.pooling = GeM()\n",
    "\n",
    "    # @torch.cuda.amp.autocast()\n",
    "    def forward(self, image):\n",
    "        batch_size = len(image)\n",
    "        # x = 2*image-1     # ; print('input ',   x.shape)\n",
    "        x = image\n",
    "\n",
    "        x = self.b0(x) #; print (x.shape)  # torch.Size([2, 40, 256, 256])\n",
    "        x = self.b1(x) #; print (x.shape)  # torch.Size([2, 24, 256, 256])\n",
    "        x = self.b2(x) #; print (x.shape)  # torch.Size([2, 32, 128, 128])\n",
    "        x = self.b3(x) #; print (x.shape)  # torch.Size([2, 48, 64, 64])\n",
    "        x = self.b4(x) #; print (x.shape)  # torch.Size([2, 96, 32, 32])\n",
    "        x = self.b5(x) #; print (x.shape)  # torch.Size([2, 136, 32, 32])\n",
    "        #------------\n",
    "        mask = self.mask(x)\n",
    "        #-------------\n",
    "        x = self.b6(x) #; print (x.shape)  # torch.Size([2, 232, 16, 16])\n",
    "        x = self.b7(x) #; print (x.shape)  # torch.Size([2, 384, 16, 16])\n",
    "        x = self.b8(x) #; print (x.shape)  # torch.Size([2, 1536, 16, 16])\n",
    "        # x = F.adaptive_avg_pool2d(x,1).reshape(batch_size,-1)\n",
    "        x = nn.Flatten()(self.pooling(x))\n",
    "        x = self.dropout(x)\n",
    "        logit = self.logit(x)\n",
    "        return logit, mask"
   ]
  },
  {
   "cell_type": "code",
   "execution_count": 48,
   "id": "known-palace",
   "metadata": {
    "_kg_hide-output": true,
    "execution": {
     "iopub.execute_input": "2021-08-10T02:45:40.162193Z",
     "iopub.status.busy": "2021-08-10T02:45:40.161613Z",
     "iopub.status.idle": "2021-08-10T02:46:11.601907Z",
     "shell.execute_reply": "2021-08-10T02:46:11.600578Z",
     "shell.execute_reply.started": "2021-08-10T02:15:41.073271Z"
    },
    "papermill": {
     "duration": 31.560193,
     "end_time": "2021-08-10T02:46:11.602032",
     "exception": false,
     "start_time": "2021-08-10T02:45:40.041839",
     "status": "completed"
    },
    "tags": []
   },
   "outputs": [
    {
     "name": "stdout",
     "output_type": "stream",
     "text": [
      "dict_values([3, 5, 6, 3, 9])\n",
      "[ AUX model ] dropout: 0.5, pool: AdaptiveAvgPool2d\n",
      "[ √ ] All layers are loaded\n",
      "[ AUX model ] dropout: 0.5, pool: AdaptiveAvgPool2d\n",
      "[ √ ] All layers are loaded\n",
      "[ AUX model ] dropout: 0.5, pool: AdaptiveAvgPool2d\n",
      "[ √ ] All layers are loaded\n",
      "[ AUX model ] dropout: 0.5, pool: AdaptiveAvgPool2d\n",
      "[ √ ] All layers are loaded\n",
      "[ AUX model ] dropout: 0.5, pool: AdaptiveAvgPool2d\n",
      "[ √ ] All layers are loaded\n",
      "11\n"
     ]
    },
    {
     "name": "stderr",
     "output_type": "stream",
     "text": [
      "1it [00:02,  2.01s/it]\n"
     ]
    }
   ],
   "source": [
    "none_1 = predict_run(\n",
    "    '../input/two-class-bce-fix-valid-bbox-two-classes-12-pl-2x/two_class_bce_fix_valid_bbox_two_classes_12_pl_2x.upload', test, True)"
   ]
  },
  {
   "cell_type": "code",
   "execution_count": 49,
   "id": "likely-force",
   "metadata": {
    "_kg_hide-output": true,
    "execution": {
     "iopub.execute_input": "2021-08-10T02:46:11.844904Z",
     "iopub.status.busy": "2021-08-10T02:46:11.844251Z",
     "iopub.status.idle": "2021-08-10T02:46:42.753977Z",
     "shell.execute_reply": "2021-08-10T02:46:42.752626Z",
     "shell.execute_reply.started": "2021-08-10T02:16:07.138694Z"
    },
    "papermill": {
     "duration": 31.041066,
     "end_time": "2021-08-10T02:46:42.754111",
     "exception": false,
     "start_time": "2021-08-10T02:46:11.713045",
     "status": "completed"
    },
    "tags": []
   },
   "outputs": [
    {
     "name": "stdout",
     "output_type": "stream",
     "text": [
      "dict_values([2, 7, 7, 5, 10])\n",
      "[ AUX model ] dropout: 0.5, pool: AdaptiveAvgPool2d\n",
      "[ √ ] All layers are loaded\n",
      "[ AUX model ] dropout: 0.5, pool: AdaptiveAvgPool2d\n",
      "[ √ ] All layers are loaded\n",
      "[ AUX model ] dropout: 0.5, pool: AdaptiveAvgPool2d\n",
      "[ √ ] All layers are loaded\n",
      "[ AUX model ] dropout: 0.5, pool: AdaptiveAvgPool2d\n",
      "[ √ ] All layers are loaded\n",
      "[ AUX model ] dropout: 0.5, pool: AdaptiveAvgPool2d\n",
      "[ √ ] All layers are loaded\n",
      "11\n"
     ]
    },
    {
     "name": "stderr",
     "output_type": "stream",
     "text": [
      "1it [00:02,  2.01s/it]\n"
     ]
    }
   ],
   "source": [
    "none_2 = predict_run(\n",
    "    '../input/two-class-bce-fix-valid-bbox-two-classes-12upload/two_class_bce_fix_valid_bbox_two_classes_12.upload', test, True)"
   ]
  },
  {
   "cell_type": "code",
   "execution_count": 50,
   "id": "matched-chess",
   "metadata": {
    "execution": {
     "iopub.execute_input": "2021-08-10T02:46:42.995494Z",
     "iopub.status.busy": "2021-08-10T02:46:42.994717Z",
     "iopub.status.idle": "2021-08-10T02:46:42.998533Z",
     "shell.execute_reply": "2021-08-10T02:46:42.998048Z",
     "shell.execute_reply.started": "2021-08-10T02:16:35.213882Z"
    },
    "papermill": {
     "duration": 0.128217,
     "end_time": "2021-08-10T02:46:42.998677",
     "exception": false,
     "start_time": "2021-08-10T02:46:42.870460",
     "status": "completed"
    },
    "tags": []
   },
   "outputs": [],
   "source": [
    "none_result = (none_1 + none_2) / 2"
   ]
  },
  {
   "cell_type": "code",
   "execution_count": 51,
   "id": "wooden-unknown",
   "metadata": {
    "execution": {
     "iopub.execute_input": "2021-08-10T02:46:43.242272Z",
     "iopub.status.busy": "2021-08-10T02:46:43.241463Z",
     "iopub.status.idle": "2021-08-10T02:46:43.253977Z",
     "shell.execute_reply": "2021-08-10T02:46:43.253431Z",
     "shell.execute_reply.started": "2021-08-10T02:16:35.222420Z"
    },
    "papermill": {
     "duration": 0.134955,
     "end_time": "2021-08-10T02:46:43.254122",
     "exception": false,
     "start_time": "2021-08-10T02:46:43.119167",
     "status": "completed"
    },
    "tags": []
   },
   "outputs": [],
   "source": [
    "none_result.to_csv('public_test_sheep_predict_none.csv')"
   ]
  },
  {
   "cell_type": "code",
   "execution_count": 52,
   "id": "adjusted-remains",
   "metadata": {
    "execution": {
     "iopub.execute_input": "2021-08-10T02:46:43.524341Z",
     "iopub.status.busy": "2021-08-10T02:46:43.491393Z",
     "iopub.status.idle": "2021-08-10T02:46:46.332978Z",
     "shell.execute_reply": "2021-08-10T02:46:46.333542Z",
     "shell.execute_reply.started": "2021-08-10T02:16:35.243456Z"
    },
    "papermill": {
     "duration": 2.961694,
     "end_time": "2021-08-10T02:46:46.333710",
     "exception": false,
     "start_time": "2021-08-10T02:46:43.372016",
     "status": "completed"
    },
    "tags": []
   },
   "outputs": [
    {
     "name": "stdout",
     "output_type": "stream",
     "text": [
      "11\r\n",
      "11\r\n"
     ]
    }
   ],
   "source": [
    "! python tocsv.py --input_path  'test_v5neg_2a.txt' --meta_path 'test_meta.csv'"
   ]
  },
  {
   "cell_type": "code",
   "execution_count": 53,
   "id": "dress-lindsay",
   "metadata": {
    "execution": {
     "iopub.execute_input": "2021-08-10T02:46:46.573394Z",
     "iopub.status.busy": "2021-08-10T02:46:46.572370Z",
     "iopub.status.idle": "2021-08-10T02:46:46.575287Z",
     "shell.execute_reply": "2021-08-10T02:46:46.574750Z",
     "shell.execute_reply.started": "2021-08-10T02:16:38.188495Z"
    },
    "papermill": {
     "duration": 0.124846,
     "end_time": "2021-08-10T02:46:46.575417",
     "exception": false,
     "start_time": "2021-08-10T02:46:46.450571",
     "status": "completed"
    },
    "tags": []
   },
   "outputs": [],
   "source": [
    "def prob2str(row):\n",
    "    return f'negative {row.pred_cls1:.6f} 0 0 1 1 typical {row.pred_cls2:.6f} 0 0 1 1 indeterminate {row.pred_cls3:.6f} 0 0 1 1 atypical {row.pred_cls4:.6f} 0 0 1 1'\n",
    "    #return f''"
   ]
  },
  {
   "cell_type": "code",
   "execution_count": 54,
   "id": "streaming-distributor",
   "metadata": {
    "execution": {
     "iopub.execute_input": "2021-08-10T02:46:46.814526Z",
     "iopub.status.busy": "2021-08-10T02:46:46.813543Z",
     "iopub.status.idle": "2021-08-10T02:46:46.816523Z",
     "shell.execute_reply": "2021-08-10T02:46:46.816032Z",
     "shell.execute_reply.started": "2021-08-10T02:16:38.194959Z"
    },
    "papermill": {
     "duration": 0.12508,
     "end_time": "2021-08-10T02:46:46.816656",
     "exception": false,
     "start_time": "2021-08-10T02:46:46.691576",
     "status": "completed"
    },
    "tags": []
   },
   "outputs": [],
   "source": [
    "def combine_image(row):\n",
    "     return f'none {row.pred_cls5:.6f} 0 0 1 1 {row.PredictionString}'\n",
    "        #return f''"
   ]
  },
  {
   "cell_type": "code",
   "execution_count": 55,
   "id": "eligible-chemical",
   "metadata": {
    "execution": {
     "iopub.execute_input": "2021-08-10T02:46:47.061625Z",
     "iopub.status.busy": "2021-08-10T02:46:47.060799Z",
     "iopub.status.idle": "2021-08-10T02:46:47.063768Z",
     "shell.execute_reply": "2021-08-10T02:46:47.063359Z",
     "shell.execute_reply.started": "2021-08-10T02:16:38.209653Z"
    },
    "papermill": {
     "duration": 0.130181,
     "end_time": "2021-08-10T02:46:47.063918",
     "exception": false,
     "start_time": "2021-08-10T02:46:46.933737",
     "status": "completed"
    },
    "tags": []
   },
   "outputs": [],
   "source": [
    "def tosub(df1):\n",
    "    df1_image = df1[['image_id', 'pred_cls1', 'pred_cls5', 'PredictionString']].copy()\n",
    "    df1_image.rename(columns={\"image_id\": \"id\"}, inplace=True)\n",
    "    df1_image['id'] = df1_image['id'].apply(lambda x: f'{x}_image')\n",
    "    df1_image['PredictionString'] = df1_image.apply(lambda r: combine_image(r), axis=1) \n",
    "    df1_image = df1_image[['id', 'PredictionString']]\n",
    "    \n",
    "    df1_study = df1[['study_id', 'pred_cls1', 'pred_cls2', 'pred_cls3', 'pred_cls4']].copy()\n",
    "    df1_study = df1_study.groupby('study_id').agg('mean').reset_index()\n",
    "    df1_study.rename(columns={\"study_id\": \"id\"}, inplace=True)\n",
    "    df1_study['id'] = df1_study['id'].apply(lambda x: f'{x}_study')\n",
    "    df1_study[\"PredictionString\"] = df1_study.apply(lambda r: prob2str(r), axis=1) \n",
    "    df1_study = df1_study[['id', 'PredictionString']]\n",
    "\n",
    "    df1_sub = pd.concat([df1_study, df1_image])\n",
    "\n",
    "    return df1_sub"
   ]
  },
  {
   "cell_type": "code",
   "execution_count": 56,
   "id": "blind-carrier",
   "metadata": {
    "execution": {
     "iopub.execute_input": "2021-08-10T02:46:47.319663Z",
     "iopub.status.busy": "2021-08-10T02:46:47.318680Z",
     "iopub.status.idle": "2021-08-10T02:46:47.415046Z",
     "shell.execute_reply": "2021-08-10T02:46:47.414557Z",
     "shell.execute_reply.started": "2021-08-10T02:16:38.228810Z"
    },
    "papermill": {
     "duration": 0.232098,
     "end_time": "2021-08-10T02:46:47.415178",
     "exception": false,
     "start_time": "2021-08-10T02:46:47.183080",
     "status": "completed"
    },
    "tags": []
   },
   "outputs": [],
   "source": [
    "df1 = pd.read_csv('n_cf11_9.csv') \n",
    "df2 = pd.read_csv('n_cf11.csv')#.head(10)\n",
    "df3 = pd.read_csv('n_cf11_6.csv')\n",
    "df4 = pd.read_csv('n_cf11_7.csv')\n",
    "df5 = pd.read_csv('n_cf11_10.csv')\n",
    "df6 = pd.read_csv('n_cf11_rot1.csv')\n",
    "df7 = pd.read_csv('n_cf11_1.csv')\n",
    "#df8 = pd.read_csv('n_cf11_8.csv')\n",
    "\n",
    "df2 = df1[[\"image_id\"]].merge(df2, on=[\"image_id\"])\n",
    "df3 = df1[[\"image_id\"]].merge(df3, on=[\"image_id\"])\n",
    "df4 = df1[[\"image_id\"]].merge(df4, on=[\"image_id\"])\n",
    "df5 = df1[[\"image_id\"]].merge(df5, on=[\"image_id\"])\n",
    "df6 = df1[[\"image_id\"]].merge(df6, on=[\"image_id\"])\n",
    "df7 = df1[[\"image_id\"]].merge(df7, on=[\"image_id\"])\n",
    "#df8 = df1[[\"image_id\"]].merge(df8, on=[\"image_id\"])\n",
    "\n",
    "sheep_df = pd.read_csv('sheep_df.csv')\n",
    "sheep_df = sheep_df.rename(columns={\"index\": \"image_id\", \"Negative for Pneumonia\": \"pred_cls1\", \n",
    "                         \"Typical Appearance\": \"pred_cls2\", \"Indeterminate Appearance\": \"pred_cls3\",\n",
    "                        \"Atypical Appearance\": \"pred_cls4\"})\n",
    "sheep_df = df2[[\"image_id\"]].merge(sheep_df, on=[\"image_id\"])\n",
    "\n",
    "for col in ['pred_cls1', 'pred_cls2', 'pred_cls3', 'pred_cls4', 'pred_cls5']:\n",
    "    df1[col] = (df1[col] + df2[col] + df3[col] + df4[col] + df5[col] + df6[col] + df7[col])/7\n",
    "    \n",
    "for col in ['pred_cls1', 'pred_cls2', 'pred_cls3', 'pred_cls4']:\n",
    "    df1[col] = (1*df1[col] + sheep_df[col])/2\n",
    "    \n",
    "sheep_none_df = pd.read_csv('public_test_sheep_predict_none.csv')\n",
    "sheep_none_df[\"image_id\"] = sheep_none_df['Unnamed: 0']\n",
    "sheep_none_df = df1[[\"image_id\"]].merge(sheep_none_df, on=[\"image_id\"])\n",
    "\n",
    "#df1['pred_cls5'] = sheep_none_df['Negative for Pneumonia']\n",
    "df1['pred_cls5'] = 2*(1-df1['pred_cls5']) + 1*sheep_df['pred_cls1'] + 1*sheep_none_df['Negative for Pneumonia']\n",
    "\n",
    "image_sub = pd.read_csv('v5_50.csv')\n",
    "image_sub = df1[[\"image_id\"]].merge(image_sub, on=[\"image_id\"])\n",
    "df1['PredictionString'] = image_sub['PredictionString']\n",
    "df_sub  = tosub(df1)"
   ]
  },
  {
   "cell_type": "code",
   "execution_count": 57,
   "id": "adjacent-direction",
   "metadata": {
    "execution": {
     "iopub.execute_input": "2021-08-10T02:46:47.669216Z",
     "iopub.status.busy": "2021-08-10T02:46:47.668485Z",
     "iopub.status.idle": "2021-08-10T02:46:47.671442Z",
     "shell.execute_reply": "2021-08-10T02:46:47.671892Z",
     "shell.execute_reply.started": "2021-08-10T02:16:38.341683Z"
    },
    "papermill": {
     "duration": 0.132038,
     "end_time": "2021-08-10T02:46:47.672028",
     "exception": false,
     "start_time": "2021-08-10T02:46:47.539990",
     "status": "completed"
    },
    "tags": []
   },
   "outputs": [
    {
     "data": {
      "text/html": [
       "<div>\n",
       "<style scoped>\n",
       "    .dataframe tbody tr th:only-of-type {\n",
       "        vertical-align: middle;\n",
       "    }\n",
       "\n",
       "    .dataframe tbody tr th {\n",
       "        vertical-align: top;\n",
       "    }\n",
       "\n",
       "    .dataframe thead th {\n",
       "        text-align: right;\n",
       "    }\n",
       "</style>\n",
       "<table border=\"1\" class=\"dataframe\">\n",
       "  <thead>\n",
       "    <tr style=\"text-align: right;\">\n",
       "      <th></th>\n",
       "      <th>id</th>\n",
       "      <th>PredictionString</th>\n",
       "    </tr>\n",
       "  </thead>\n",
       "  <tbody>\n",
       "    <tr>\n",
       "      <th>6</th>\n",
       "      <td>bb425c8a4aae_image</td>\n",
       "      <td>none 1.283804 0 0 1 1 opacity 12.982481 1480 8...</td>\n",
       "    </tr>\n",
       "    <tr>\n",
       "      <th>7</th>\n",
       "      <td>5a0de0207028_image</td>\n",
       "      <td>none 2.779134 0 0 1 1 opacity 5.222218 3092 16...</td>\n",
       "    </tr>\n",
       "    <tr>\n",
       "      <th>8</th>\n",
       "      <td>9f6cc74b0062_image</td>\n",
       "      <td>none 0.774476 0 0 1 1 opacity 17.903465 1513 9...</td>\n",
       "    </tr>\n",
       "    <tr>\n",
       "      <th>9</th>\n",
       "      <td>e8b4525ec41f_image</td>\n",
       "      <td>none 3.286427 0 0 1 1 opacity 5.318613 457 148...</td>\n",
       "    </tr>\n",
       "    <tr>\n",
       "      <th>10</th>\n",
       "      <td>376d6d181b25_image</td>\n",
       "      <td>none 0.430715 0 0 1 1 opacity 50.021606 1722 7...</td>\n",
       "    </tr>\n",
       "  </tbody>\n",
       "</table>\n",
       "</div>"
      ],
      "text/plain": [
       "                    id                                   PredictionString\n",
       "6   bb425c8a4aae_image  none 1.283804 0 0 1 1 opacity 12.982481 1480 8...\n",
       "7   5a0de0207028_image  none 2.779134 0 0 1 1 opacity 5.222218 3092 16...\n",
       "8   9f6cc74b0062_image  none 0.774476 0 0 1 1 opacity 17.903465 1513 9...\n",
       "9   e8b4525ec41f_image  none 3.286427 0 0 1 1 opacity 5.318613 457 148...\n",
       "10  376d6d181b25_image  none 0.430715 0 0 1 1 opacity 50.021606 1722 7..."
      ]
     },
     "execution_count": 57,
     "metadata": {},
     "output_type": "execute_result"
    }
   ],
   "source": [
    "df_sub.tail()"
   ]
  },
  {
   "cell_type": "code",
   "execution_count": 58,
   "id": "universal-validity",
   "metadata": {
    "execution": {
     "iopub.execute_input": "2021-08-10T02:46:47.922024Z",
     "iopub.status.busy": "2021-08-10T02:46:47.921191Z",
     "iopub.status.idle": "2021-08-10T02:46:47.925155Z",
     "shell.execute_reply": "2021-08-10T02:46:47.925624Z",
     "shell.execute_reply.started": "2021-08-10T02:16:38.355209Z"
    },
    "papermill": {
     "duration": 0.13515,
     "end_time": "2021-08-10T02:46:47.925768",
     "exception": false,
     "start_time": "2021-08-10T02:46:47.790618",
     "status": "completed"
    },
    "tags": []
   },
   "outputs": [
    {
     "data": {
      "text/html": [
       "<div>\n",
       "<style scoped>\n",
       "    .dataframe tbody tr th:only-of-type {\n",
       "        vertical-align: middle;\n",
       "    }\n",
       "\n",
       "    .dataframe tbody tr th {\n",
       "        vertical-align: top;\n",
       "    }\n",
       "\n",
       "    .dataframe thead th {\n",
       "        text-align: right;\n",
       "    }\n",
       "</style>\n",
       "<table border=\"1\" class=\"dataframe\">\n",
       "  <thead>\n",
       "    <tr style=\"text-align: right;\">\n",
       "      <th></th>\n",
       "      <th>id</th>\n",
       "      <th>PredictionString</th>\n",
       "    </tr>\n",
       "  </thead>\n",
       "  <tbody>\n",
       "    <tr>\n",
       "      <th>0</th>\n",
       "      <td>19c66935e737_study</td>\n",
       "      <td>negative 0.043745 0 0 1 1 typical 0.508118 0 0...</td>\n",
       "    </tr>\n",
       "    <tr>\n",
       "      <th>1</th>\n",
       "      <td>215d5a459a13_study</td>\n",
       "      <td>negative 0.016232 0 0 1 1 typical 0.822823 0 0...</td>\n",
       "    </tr>\n",
       "    <tr>\n",
       "      <th>2</th>\n",
       "      <td>2767827cedc2_study</td>\n",
       "      <td>negative 0.606424 0 0 1 1 typical 0.148333 0 0...</td>\n",
       "    </tr>\n",
       "    <tr>\n",
       "      <th>3</th>\n",
       "      <td>2fb11712bc93_study</td>\n",
       "      <td>negative 0.014217 0 0 1 1 typical 0.836916 0 0...</td>\n",
       "    </tr>\n",
       "    <tr>\n",
       "      <th>4</th>\n",
       "      <td>2fc50bf199cd_study</td>\n",
       "      <td>negative 0.047801 0 0 1 1 typical 0.661482 0 0...</td>\n",
       "    </tr>\n",
       "  </tbody>\n",
       "</table>\n",
       "</div>"
      ],
      "text/plain": [
       "                   id                                   PredictionString\n",
       "0  19c66935e737_study  negative 0.043745 0 0 1 1 typical 0.508118 0 0...\n",
       "1  215d5a459a13_study  negative 0.016232 0 0 1 1 typical 0.822823 0 0...\n",
       "2  2767827cedc2_study  negative 0.606424 0 0 1 1 typical 0.148333 0 0...\n",
       "3  2fb11712bc93_study  negative 0.014217 0 0 1 1 typical 0.836916 0 0...\n",
       "4  2fc50bf199cd_study  negative 0.047801 0 0 1 1 typical 0.661482 0 0..."
      ]
     },
     "execution_count": 58,
     "metadata": {},
     "output_type": "execute_result"
    }
   ],
   "source": [
    "df_sub.head()"
   ]
  },
  {
   "cell_type": "code",
   "execution_count": 59,
   "id": "coordinate-placement",
   "metadata": {
    "execution": {
     "iopub.execute_input": "2021-08-10T02:46:48.206997Z",
     "iopub.status.busy": "2021-08-10T02:46:48.205813Z",
     "iopub.status.idle": "2021-08-10T02:46:48.961415Z",
     "shell.execute_reply": "2021-08-10T02:46:48.960781Z",
     "shell.execute_reply.started": "2021-08-10T02:16:38.375633Z"
    },
    "papermill": {
     "duration": 0.916263,
     "end_time": "2021-08-10T02:46:48.961563",
     "exception": false,
     "start_time": "2021-08-10T02:46:48.045300",
     "status": "completed"
    },
    "tags": []
   },
   "outputs": [],
   "source": [
    "!rm -r ./*"
   ]
  },
  {
   "cell_type": "code",
   "execution_count": 60,
   "id": "large-young",
   "metadata": {
    "execution": {
     "iopub.execute_input": "2021-08-10T02:46:49.210072Z",
     "iopub.status.busy": "2021-08-10T02:46:49.203238Z",
     "iopub.status.idle": "2021-08-10T02:46:49.213322Z",
     "shell.execute_reply": "2021-08-10T02:46:49.212668Z",
     "shell.execute_reply.started": "2021-08-10T02:16:39.294722Z"
    },
    "papermill": {
     "duration": 0.132622,
     "end_time": "2021-08-10T02:46:49.213458",
     "exception": false,
     "start_time": "2021-08-10T02:46:49.080836",
     "status": "completed"
    },
    "tags": []
   },
   "outputs": [],
   "source": [
    "df_sub.to_csv('submission.csv', index=False)"
   ]
  },
  {
   "cell_type": "code",
   "execution_count": null,
   "id": "focal-congo",
   "metadata": {
    "papermill": {
     "duration": 0.117499,
     "end_time": "2021-08-10T02:46:49.448062",
     "exception": false,
     "start_time": "2021-08-10T02:46:49.330563",
     "status": "completed"
    },
    "tags": []
   },
   "outputs": [],
   "source": []
  }
 ],
 "metadata": {
  "kernelspec": {
   "display_name": "Python 3",
   "language": "python",
   "name": "python3"
  },
  "language_info": {
   "codemirror_mode": {
    "name": "ipython",
    "version": 3
   },
   "file_extension": ".py",
   "mimetype": "text/x-python",
   "name": "python",
   "nbconvert_exporter": "python",
   "pygments_lexer": "ipython3",
   "version": "3.7.10"
  },
  "papermill": {
   "default_parameters": {},
   "duration": 1173.121861,
   "end_time": "2021-08-10T02:46:51.473438",
   "environment_variables": {},
   "exception": null,
   "input_path": "__notebook__.ipynb",
   "output_path": "__notebook__.ipynb",
   "parameters": {},
   "start_time": "2021-08-10T02:27:18.351577",
   "version": "2.3.3"
  },
  "widgets": {
   "application/vnd.jupyter.widget-state+json": {
    "state": {
     "1a80b687f22f446680b1defdb9c98eee": {
      "model_module": "@jupyter-widgets/controls",
      "model_module_version": "1.5.0",
      "model_name": "HTMLModel",
      "state": {
       "_dom_classes": [],
       "_model_module": "@jupyter-widgets/controls",
       "_model_module_version": "1.5.0",
       "_model_name": "HTMLModel",
       "_view_count": null,
       "_view_module": "@jupyter-widgets/controls",
       "_view_module_version": "1.5.0",
       "_view_name": "HTMLView",
       "description": "",
       "description_tooltip": null,
       "layout": "IPY_MODEL_aa530e739b664497bffb52e2106491b0",
       "placeholder": "​",
       "style": "IPY_MODEL_ce0bb206e5b748c399355edec9d07956",
       "value": " 22/? [00:10&lt;00:00,  2.04it/s]"
      }
     },
     "8409c9257c2743fa8decf269327334e7": {
      "model_module": "@jupyter-widgets/controls",
      "model_module_version": "1.5.0",
      "model_name": "DescriptionStyleModel",
      "state": {
       "_model_module": "@jupyter-widgets/controls",
       "_model_module_version": "1.5.0",
       "_model_name": "DescriptionStyleModel",
       "_view_count": null,
       "_view_module": "@jupyter-widgets/base",
       "_view_module_version": "1.2.0",
       "_view_name": "StyleView",
       "description_width": ""
      }
     },
     "aa530e739b664497bffb52e2106491b0": {
      "model_module": "@jupyter-widgets/base",
      "model_module_version": "1.2.0",
      "model_name": "LayoutModel",
      "state": {
       "_model_module": "@jupyter-widgets/base",
       "_model_module_version": "1.2.0",
       "_model_name": "LayoutModel",
       "_view_count": null,
       "_view_module": "@jupyter-widgets/base",
       "_view_module_version": "1.2.0",
       "_view_name": "LayoutView",
       "align_content": null,
       "align_items": null,
       "align_self": null,
       "border": null,
       "bottom": null,
       "display": null,
       "flex": null,
       "flex_flow": null,
       "grid_area": null,
       "grid_auto_columns": null,
       "grid_auto_flow": null,
       "grid_auto_rows": null,
       "grid_column": null,
       "grid_gap": null,
       "grid_row": null,
       "grid_template_areas": null,
       "grid_template_columns": null,
       "grid_template_rows": null,
       "height": null,
       "justify_content": null,
       "justify_items": null,
       "left": null,
       "margin": null,
       "max_height": null,
       "max_width": null,
       "min_height": null,
       "min_width": null,
       "object_fit": null,
       "object_position": null,
       "order": null,
       "overflow": null,
       "overflow_x": null,
       "overflow_y": null,
       "padding": null,
       "right": null,
       "top": null,
       "visibility": null,
       "width": null
      }
     },
     "b5c3c9e96651443b9e5e9ed043666230": {
      "model_module": "@jupyter-widgets/base",
      "model_module_version": "1.2.0",
      "model_name": "LayoutModel",
      "state": {
       "_model_module": "@jupyter-widgets/base",
       "_model_module_version": "1.2.0",
       "_model_name": "LayoutModel",
       "_view_count": null,
       "_view_module": "@jupyter-widgets/base",
       "_view_module_version": "1.2.0",
       "_view_name": "LayoutView",
       "align_content": null,
       "align_items": null,
       "align_self": null,
       "border": null,
       "bottom": null,
       "display": null,
       "flex": null,
       "flex_flow": null,
       "grid_area": null,
       "grid_auto_columns": null,
       "grid_auto_flow": null,
       "grid_auto_rows": null,
       "grid_column": null,
       "grid_gap": null,
       "grid_row": null,
       "grid_template_areas": null,
       "grid_template_columns": null,
       "grid_template_rows": null,
       "height": null,
       "justify_content": null,
       "justify_items": null,
       "left": null,
       "margin": null,
       "max_height": null,
       "max_width": null,
       "min_height": null,
       "min_width": null,
       "object_fit": null,
       "object_position": null,
       "order": null,
       "overflow": null,
       "overflow_x": null,
       "overflow_y": null,
       "padding": null,
       "right": null,
       "top": null,
       "visibility": null,
       "width": null
      }
     },
     "bf213e073ba2451188ba5b2cc0cc3821": {
      "model_module": "@jupyter-widgets/base",
      "model_module_version": "1.2.0",
      "model_name": "LayoutModel",
      "state": {
       "_model_module": "@jupyter-widgets/base",
       "_model_module_version": "1.2.0",
       "_model_name": "LayoutModel",
       "_view_count": null,
       "_view_module": "@jupyter-widgets/base",
       "_view_module_version": "1.2.0",
       "_view_name": "LayoutView",
       "align_content": null,
       "align_items": null,
       "align_self": null,
       "border": null,
       "bottom": null,
       "display": null,
       "flex": null,
       "flex_flow": null,
       "grid_area": null,
       "grid_auto_columns": null,
       "grid_auto_flow": null,
       "grid_auto_rows": null,
       "grid_column": null,
       "grid_gap": null,
       "grid_row": null,
       "grid_template_areas": null,
       "grid_template_columns": null,
       "grid_template_rows": null,
       "height": null,
       "justify_content": null,
       "justify_items": null,
       "left": null,
       "margin": null,
       "max_height": null,
       "max_width": null,
       "min_height": null,
       "min_width": null,
       "object_fit": null,
       "object_position": null,
       "order": null,
       "overflow": null,
       "overflow_x": null,
       "overflow_y": null,
       "padding": null,
       "right": null,
       "top": null,
       "visibility": null,
       "width": null
      }
     },
     "c044944a2c3846c993020e08d6887c5f": {
      "model_module": "@jupyter-widgets/controls",
      "model_module_version": "1.5.0",
      "model_name": "FloatProgressModel",
      "state": {
       "_dom_classes": [],
       "_model_module": "@jupyter-widgets/controls",
       "_model_module_version": "1.5.0",
       "_model_name": "FloatProgressModel",
       "_view_count": null,
       "_view_module": "@jupyter-widgets/controls",
       "_view_module_version": "1.5.0",
       "_view_name": "ProgressView",
       "bar_style": "danger",
       "description": "",
       "description_tooltip": null,
       "layout": "IPY_MODEL_cec02be10e224c2b8b0b6dec028efc18",
       "max": 1.0,
       "min": 0.0,
       "orientation": "horizontal",
       "style": "IPY_MODEL_e6cbcbf5d6e54c8884e0a9749d92a4d1",
       "value": 1.0
      }
     },
     "ce0bb206e5b748c399355edec9d07956": {
      "model_module": "@jupyter-widgets/controls",
      "model_module_version": "1.5.0",
      "model_name": "DescriptionStyleModel",
      "state": {
       "_model_module": "@jupyter-widgets/controls",
       "_model_module_version": "1.5.0",
       "_model_name": "DescriptionStyleModel",
       "_view_count": null,
       "_view_module": "@jupyter-widgets/base",
       "_view_module_version": "1.2.0",
       "_view_name": "StyleView",
       "description_width": ""
      }
     },
     "cec02be10e224c2b8b0b6dec028efc18": {
      "model_module": "@jupyter-widgets/base",
      "model_module_version": "1.2.0",
      "model_name": "LayoutModel",
      "state": {
       "_model_module": "@jupyter-widgets/base",
       "_model_module_version": "1.2.0",
       "_model_name": "LayoutModel",
       "_view_count": null,
       "_view_module": "@jupyter-widgets/base",
       "_view_module_version": "1.2.0",
       "_view_name": "LayoutView",
       "align_content": null,
       "align_items": null,
       "align_self": null,
       "border": null,
       "bottom": null,
       "display": null,
       "flex": null,
       "flex_flow": null,
       "grid_area": null,
       "grid_auto_columns": null,
       "grid_auto_flow": null,
       "grid_auto_rows": null,
       "grid_column": null,
       "grid_gap": null,
       "grid_row": null,
       "grid_template_areas": null,
       "grid_template_columns": null,
       "grid_template_rows": null,
       "height": null,
       "justify_content": null,
       "justify_items": null,
       "left": null,
       "margin": null,
       "max_height": null,
       "max_width": null,
       "min_height": null,
       "min_width": null,
       "object_fit": null,
       "object_position": null,
       "order": null,
       "overflow": null,
       "overflow_x": null,
       "overflow_y": null,
       "padding": null,
       "right": null,
       "top": null,
       "visibility": null,
       "width": "20px"
      }
     },
     "e08f323f3e97434c96e4ecd2f24df6db": {
      "model_module": "@jupyter-widgets/controls",
      "model_module_version": "1.5.0",
      "model_name": "HBoxModel",
      "state": {
       "_dom_classes": [],
       "_model_module": "@jupyter-widgets/controls",
       "_model_module_version": "1.5.0",
       "_model_name": "HBoxModel",
       "_view_count": null,
       "_view_module": "@jupyter-widgets/controls",
       "_view_module_version": "1.5.0",
       "_view_name": "HBoxView",
       "box_style": "",
       "children": [
        "IPY_MODEL_f0dadcc3e0d34a198e6855e625dd12dd",
        "IPY_MODEL_c044944a2c3846c993020e08d6887c5f",
        "IPY_MODEL_1a80b687f22f446680b1defdb9c98eee"
       ],
       "layout": "IPY_MODEL_bf213e073ba2451188ba5b2cc0cc3821"
      }
     },
     "e6cbcbf5d6e54c8884e0a9749d92a4d1": {
      "model_module": "@jupyter-widgets/controls",
      "model_module_version": "1.5.0",
      "model_name": "ProgressStyleModel",
      "state": {
       "_model_module": "@jupyter-widgets/controls",
       "_model_module_version": "1.5.0",
       "_model_name": "ProgressStyleModel",
       "_view_count": null,
       "_view_module": "@jupyter-widgets/base",
       "_view_module_version": "1.2.0",
       "_view_name": "StyleView",
       "bar_color": null,
       "description_width": ""
      }
     },
     "f0dadcc3e0d34a198e6855e625dd12dd": {
      "model_module": "@jupyter-widgets/controls",
      "model_module_version": "1.5.0",
      "model_name": "HTMLModel",
      "state": {
       "_dom_classes": [],
       "_model_module": "@jupyter-widgets/controls",
       "_model_module_version": "1.5.0",
       "_model_name": "HTMLModel",
       "_view_count": null,
       "_view_module": "@jupyter-widgets/controls",
       "_view_module_version": "1.5.0",
       "_view_name": "HTMLView",
       "description": "",
       "description_tooltip": null,
       "layout": "IPY_MODEL_b5c3c9e96651443b9e5e9ed043666230",
       "placeholder": "​",
       "style": "IPY_MODEL_8409c9257c2743fa8decf269327334e7",
       "value": ""
      }
     }
    },
    "version_major": 2,
    "version_minor": 0
   }
  }
 },
 "nbformat": 4,
 "nbformat_minor": 5
}
